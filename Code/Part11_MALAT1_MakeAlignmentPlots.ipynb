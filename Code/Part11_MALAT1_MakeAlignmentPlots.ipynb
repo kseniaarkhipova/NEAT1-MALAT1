{
 "cells": [
  {
   "cell_type": "code",
   "execution_count": 1,
   "id": "1258b112",
   "metadata": {},
   "outputs": [],
   "source": [
    "import matplotlib.pyplot as plt\n",
    "import matplotlib.patches as mpatches\n",
    "import matplotlib.lines as mlines\n",
    "import json\n",
    "from matplotlib import rc\n",
    "rc('font',**{'family':'sans-serif','sans-serif':'Arial'})\n",
    "rc('text',usetex=True)\n",
    "\n",
    "plt.rcParams['mathtext.fontset'] = 'custom'\n",
    "plt.rcParams['mathtext.it'] = 'Arial:italic'\n",
    "plt.rcParams['mathtext.rm'] = 'Arial'"
   ]
  },
  {
   "cell_type": "code",
   "execution_count": 2,
   "id": "358df237",
   "metadata": {},
   "outputs": [],
   "source": [
    "seq = {}\n",
    "seq_file = './FinalSeqs/MALAT1_gene_all.fasta'\n",
    "with open(seq_file) as file1:\n",
    "    fl = 0\n",
    "    for line in file1:\n",
    "        if line.startswith('>') and fl == 0:\n",
    "            l = []\n",
    "            name = line.rstrip().lstrip('>')\n",
    "            fl = 1\n",
    "        elif line.startswith('>') and fl == 1:\n",
    "            seq[name] = ''.join(l)\n",
    "            l = []\n",
    "            name = line.rstrip().lstrip('>')\n",
    "        elif not line.startswith('>'):\n",
    "            l.append(line.strip())\n",
    "    seq[name] = ''.join(l)"
   ]
  },
  {
   "cell_type": "code",
   "execution_count": 1,
   "id": "3153f417",
   "metadata": {},
   "outputs": [],
   "source": [
    "tax_species = {}\n",
    "poly = {}\n",
    "latin = {}\n",
    "neat1 = {}\n",
    "length = {}\n",
    "gaps = {}\n",
    "with open('Metadata') as file1:\n",
    "    for line in file1:\n",
    "        dat = line.strip().split('\\t')\n",
    "        if not line.startswith('#') and dat[4] == '1':\n",
    "            dat = line.strip().split('\\t')\n",
    "            latin[dat[0]] = dat[1]\n",
    "            tax_species[dat[0]] = dat[20].upper()\n",
    "            neat1[dat[0]] = {}\n",
    "            length[dat[0]] = int(dat[6])\n",
    "            if dat[7]:\n",
    "                poly[dat[0]] = [int(dat[7])]\n",
    "            else:\n",
    "                poly[dat[0]] = []\n",
    "            if dat[11] not in ['0','Nan']:\n",
    "                gaps[dat[0]] = [int(i) for i in dat[12].split(';')]\n"
   ]
  },
  {
   "cell_type": "code",
   "execution_count": 4,
   "id": "c2dd1d90",
   "metadata": {},
   "outputs": [],
   "source": [
    "TE = json.load(open(\"./TE/MALAT1_non_overlapping_TE.json\",\"r\"))"
   ]
  },
  {
   "cell_type": "code",
   "execution_count": 5,
   "id": "c4e1625b",
   "metadata": {},
   "outputs": [],
   "source": [
    "colors = {}\n",
    "for i in range(50,101):\n",
    "    if i < 60:\n",
    "        colors[i] = '#C2C2C2'\n",
    "    elif i >= 60 and i < 70:\n",
    "        colors[i] = '#EED1A8'\n",
    "    elif i >= 70 and i < 80:\n",
    "        colors[i] = '#D8D3E5'\n",
    "    elif i >= 80 and i < 90:\n",
    "        colors[i] = '#CBE0BA'\n",
    "    else:\n",
    "        colors[i] = '#FAD7D5'"
   ]
  },
  {
   "cell_type": "code",
   "execution_count": 6,
   "id": "085eff26",
   "metadata": {},
   "outputs": [],
   "source": [
    "GQ = {}\n",
    "with open('./Archetypes/GQuadPredicted_MALAT1') as file1:\n",
    "    for line in file1:\n",
    "        if not line.startswith('sequenceName') and not line.startswith('#'):\n",
    "            dat = line.strip().split(',')\n",
    "            name = dat[0].replace('\"','')\n",
    "            if name not in GQ:\n",
    "                GQ[name] = []\n",
    "            for i in range(int(dat[1]),int(dat[2])):\n",
    "                GQ[name].append(i)"
   ]
  },
  {
   "cell_type": "code",
   "execution_count": 7,
   "id": "d07b6c7e",
   "metadata": {},
   "outputs": [],
   "source": [
    "ssr = {}\n",
    "with open('./SSR_search/MALAT1_SSR.misa') as file1:\n",
    "    for line in file1:\n",
    "        if not line.startswith('ID'):\n",
    "            dat = line.strip().split('\\t')\n",
    "            if dat[0] in neat1:\n",
    "                if dat[0] not in ssr:\n",
    "                    ssr[dat[0]] = [0 for i in range(length[dat[0]])]\n",
    "                for i in range(int(dat[-2]),int(dat[-1])):\n",
    "                    ssr[dat[0]][i] = -1"
   ]
  },
  {
   "cell_type": "code",
   "execution_count": 15,
   "id": "021294b6",
   "metadata": {},
   "outputs": [],
   "source": [
    "blast = {}\n",
    "c = 1\n",
    "with open('./BLAST_all_vs_all/MALAT1_all_vs_all.txt') as file1:\n",
    "    for line in file1:\n",
    "        dat = line.strip().split('\\t')\n",
    "        if int(dat[2]) > 100:\n",
    "            if dat[0] not in blast:\n",
    "                blast[dat[0]] = {}\n",
    "            if dat[1] not in blast[dat[0]]:\n",
    "                blast[dat[0]][dat[1]] = {}\n",
    "            a = [int(dat[4]),int(dat[6])]\n",
    "            b = [int(dat[5]),int(dat[7])]\n",
    "            blast[dat[0]][dat[1]][c] = [a,b,int(round(float(dat[3]),0))]\n",
    "            c += 1"
   ]
  },
  {
   "cell_type": "code",
   "execution_count": 9,
   "id": "ebfb9246",
   "metadata": {},
   "outputs": [],
   "source": [
    "d = json.load(open(\"./BLAST_all_vs_all/MALAT1_ANI.json\",\"r\"))"
   ]
  },
  {
   "cell_type": "code",
   "execution_count": 10,
   "id": "596fd35b",
   "metadata": {},
   "outputs": [],
   "source": [
    "Archetypes = ['GCF_015852505.1_mTacAcu1.pri', 'GCF_016433145.1_AgileGrace', 'GCA_016432865.2_AdamAnt_v2',\n",
    "         'GCF_000313985.2_ASM31398v2', 'GCA_000152225.2_Pcap_2.0', 'GCF_014898055.1_MPIMG_talOcc4',\n",
    "          'GCA_029834395.2_SorCin_2.1', 'Human_MALAT1', 'GCA_013371645.1_OryCun3.0',\n",
    "         'GCF_014633375.1_OchPri4.0', 'GCF_020740685.1_mJacJac1.mat.Y.cur', 'GCA_023101885.1_KIZ_TCIN_v1.0',\n",
    "         'Mouse_MALAT1','GCF_019054845.1_ASM1905484v1', 'GCA_004027875.1_AplRuf_v1_BIUU']"
   ]
  },
  {
   "cell_type": "code",
   "execution_count": 11,
   "id": "b062c7ed",
   "metadata": {},
   "outputs": [],
   "source": [
    "colormap = {'DNA':'#efba36','SINE':'#f96861','LINE':'#80b364','Other':'#cfc5ea',\n",
    "           '70':'#EED1A8','80':'#D8D3E5','90':'#CBE0BA','100':'#FAD7D5',\n",
    "           'g4':'#d470a0','polya':'#686868','ssr':'royalblue','kmer':'#d470a0','Other2':'#8c5792'}"
   ]
  },
  {
   "cell_type": "code",
   "execution_count": 12,
   "id": "d578eb47",
   "metadata": {},
   "outputs": [],
   "source": [
    "def print_alignment(genomes, filename, figsize, text_start, xlim,fsizeticks,fsizeleg,fontsize,namelength,GQflag,ANI):\n",
    "    global blast\n",
    "    global GQ, TE\n",
    "    global poly\n",
    "    global ssr\n",
    "    global length\n",
    "    global colormap\n",
    "    \n",
    "    xstart = 0\n",
    "    plt.figure(figsize=figsize)\n",
    "    fig,ax = plt.subplots()\n",
    "    for idx in range(1,len(genomes)):\n",
    "        #Plot similarity between 2 orthologs\n",
    "        genome1 = genomes[idx - 1 ]\n",
    "        genome2 = genomes[idx]\n",
    "        if genome1 in blast and genome2 in blast[genome1]:\n",
    "            for item in blast[genome1][genome2]:\n",
    "                start = blast[genome1][genome2][item][0]\n",
    "                end = blast[genome1][genome2][item][1]\n",
    "                polygon = mpatches.Polygon([(start[1],idx+1), (end[1],idx+1),(end[0],idx),(start[0],idx)],\n",
    "                                         facecolor=colors[blast[genome1][genome2][item][2]],\n",
    "                                          edgecolor='black',linewidth=0.2)\n",
    "                ax.add_patch(polygon)\n",
    "\n",
    "        plt.plot([idx for i in range(length[genome1])],'s',color='dimgray',markersize=0.2)\n",
    "        ## PLOT ELEMENTS FOR GENOME 1\n",
    "        #Plot G-quadruplexes locations\n",
    "        if GQflag:\n",
    "            g = [idx if i in GQ[genome1] else 0 for i in range(length[genome1])]\n",
    "            plt.plot(g, '|',markersize=5,color=colormap['g4'])\n",
    "\n",
    "        #Plot locations of SSR\n",
    "        if genome1 in ssr:\n",
    "            sp = [idx if ssr[genome1][i] == -1 else 0 for i in range(length[genome1])]\n",
    "            plt.plot(sp, '|',markersize=7,color=colormap['ssr'])\n",
    "        \n",
    "        #Plot locations of sequence gaps\n",
    "        if genome1 in gaps:\n",
    "            g = [idx if i in gaps[genome1] else 0 for i in range(length[genome1])]\n",
    "            plt.plot(g, '|',markersize=3,color='black')\n",
    "        #Plot TEs in colours in accordance to their classification\n",
    "        if genome1 in TE:\n",
    "            for element in TE[genome1]:\n",
    "                if 'DNA' in element:\n",
    "                    color=colormap['DNA']\n",
    "                elif 'SINE' in element:\n",
    "                    color=colormap['SINE']\n",
    "                elif 'LINE' in element:\n",
    "                    color = colormap['LINE']\n",
    "                else:\n",
    "                    color=colormap['Other']\n",
    "                a = [idx if i in range(TE[genome1][element][1],TE[genome1][element][2]) else 0 for i in range(length[genome1])]\n",
    "                plt.plot(a, 's',markersize=4,color=color)\n",
    "        # Add species names\n",
    "        if namelength == 'short':\n",
    "            genname1 = latin[genome1].split('\\ ')[0][0] + '. ' + latin[genome1].split(' ')[1]\n",
    "            genname2 = latin[genome2].split('\\ ')[0][0] + '. ' + latin[genome2].split(' ')[1]\n",
    "        elif namelength == 'long':\n",
    "            genname1 = '\\ '.join(latin[genome1].split(' ')[:2])\n",
    "            genname2 = '\\ '.join(latin[genome2].split(' ')[:2])\n",
    "\n",
    "        if ANI:\n",
    "            plt.text(-3000, idx+0.4, str(round(d[genome1][genome2],2)) + \" \\%\",fontsize=fontsize)\n",
    "        else:\n",
    "            plt.text(text_start, idx, r\"$\\mathit{\" + genname1 + \"}$\",fontsize=fontsize, fontstyle='italic')\n",
    "            plt.text(text_start, idx+1, r\"$\\mathit{\" + genname2 + \"}$\",fontsize=fontsize, fontstyle='italic')\n",
    "        idx += 1\n",
    "        \n",
    "    ## PLOT ELEMENTS FOR GENOME 2\n",
    "    \n",
    "    plt.plot([idx for i in range(length[genome2])],'s',color='dimgray',markersize=0.2)\n",
    "    \n",
    "    #Plot location of SSR\n",
    "    sp = [idx if ssr[genome2][i] == -1 else 0 for i in range(length[genome2])]\n",
    "    plt.plot(sp, '|',markersize=7,color=colormap['ssr'])\n",
    "    \n",
    "    #Plot locations of assembly gaps\n",
    "    if genome2 in gaps:\n",
    "        g = [idx if i in gaps[genome2] else 0 for i in range(length[genome2])]\n",
    "        plt.plot(g, '|',markersize=3,color='black')\n",
    "        \n",
    "    #Plot locations of G-quadruplexes\n",
    "    if GQflag:\n",
    "        g = [idx if i in GQ[genome2] else 0 for i in range(length[genome2])]\n",
    "        plt.plot(g, '|',markersize=5,color=colormap['g4'])\n",
    "    #Plot TEs in colours in accordance to their classification\n",
    "    if genome2 in TE:\n",
    "        for element in TE[genome2]:\n",
    "            if 'DNA' in element:\n",
    "                color=colormap['DNA']\n",
    "            elif 'SINE' in element:\n",
    "                color=colormap['SINE']\n",
    "            elif 'LINE' in element:\n",
    "                color = colormap['LINE']\n",
    "            else:\n",
    "                color=colormap['Other']\n",
    "            a = [idx if i in range(TE[genome2][element][1],TE[genome2][element][2]) else 0 for i in range(length[genome2])]\n",
    "            plt.plot(a, 's',markersize=4,color=color)\n",
    "    #Set general figure parameters\n",
    "    plt.xlim([0,xlim])\n",
    "    plt.ylim([0.5,len(genomes) + 10])\n",
    "    plt.yticks([])\n",
    "    plt.xticks(fontsize=fsizeticks)\n",
    "\n",
    "    #Legend\n",
    "    patch_70 = mpatches.Patch(color=colormap['70'], label='60-70')\n",
    "    patch_80 = mpatches.Patch(color=colormap['80'], label='70-80')\n",
    "    patch_90 = mpatches.Patch(color=colormap['90'], label='80-90')\n",
    "    patch_100 = mpatches.Patch(color=colormap['100'], label='$>$ 90')\n",
    "    patch_LINE = mpatches.Patch(color=colormap['LINE'], label='LINE')\n",
    "    patch_SINE = mpatches.Patch(color=colormap['SINE'], label='SINE')\n",
    "    patch_DNA = mpatches.Patch(color=colormap['DNA'], label='DNA')\n",
    "    #patch_Other = mpatches.Patch(color=colormap['Other2'], label='ERV')\n",
    "    patch_Other = mpatches.Patch(color=colormap['Other'], label='Other')\n",
    "    patch_gap = mlines.Line2D([],[],color='black',marker='|',markersize=6,label='Assembly gap')\n",
    "    patch_te = mlines.Line2D([],[],color=colormap['ssr'],marker='|',markersize=6,label='SSRs')\n",
    "    patch_polya = mlines.Line2D([],[],color=colormap['polya'],marker='D',markersize=3,label='NEAT1Short 3\\'-end')\n",
    "    plt.legend(handles=[patch_70,patch_80,patch_90,patch_100,patch_LINE,patch_SINE,patch_DNA,patch_Other,patch_te,\n",
    "                       patch_polya, patch_gap], title_fontsize=6,\n",
    "               fontsize = fsizeleg,title='Homology %',frameon=False)\n",
    "\n",
    "    # Save the figure\n",
    "    plt.box(False)\n",
    "    plt.tight_layout()\n",
    "    plt.savefig('./FiguresPublication/MALAT1_' + filename + '.png',dpi=300)"
   ]
  },
  {
   "cell_type": "code",
   "execution_count": 16,
   "id": "b61c8042",
   "metadata": {},
   "outputs": [
    {
     "data": {
      "text/plain": [
       "<Figure size 864x288 with 0 Axes>"
      ]
     },
     "metadata": {},
     "output_type": "display_data"
    },
    {
     "data": {
      "image/png": "[encoded data removed]",
      "text/plain": [
       "<Figure size 432x288 with 1 Axes>"
      ]
     },
     "metadata": {
      "needs_background": "light"
     },
     "output_type": "display_data"
    }
   ],
   "source": [
    "\n",
    "genomes = Archetypes[::-1]\n",
    "xlim = 10000\n",
    "text_start = -3000\n",
    "filename = 'Archetypes'\n",
    "figsize=(12, 4)\n",
    "fsizeticks = 7\n",
    "fsizeleg = 6\n",
    "fontsize=7\n",
    "namelength = 'long'\n",
    "print_alignment(genomes, filename, figsize, text_start, xlim,fsizeticks,fsizeleg, fontsize, namelength,'','')"
   ]
  },
  {
   "cell_type": "code",
   "execution_count": 14,
   "id": "38d6bbd1",
   "metadata": {},
   "outputs": [
    {
     "data": {
      "text/plain": [
       "<Figure size 864x288 with 0 Axes>"
      ]
     },
     "metadata": {},
     "output_type": "display_data"
    },
    {
     "data": {
      "image/png": "[encoded data removed]",
      "text/plain": [
       "<Figure size 432x288 with 1 Axes>"
      ]
     },
     "metadata": {
      "needs_background": "light"
     },
     "output_type": "display_data"
    }
   ],
   "source": [
    "# Alignment of MALAT1 orthologs with TEs\n",
    "genomes = ['GCF_000247695.1_HetGla_female_1.0', 'GCA_025594165.1_ASM2559416v1', 'GCF_003426925.1_ASM342692v1', \n",
    "       'GCF_016881025.1_HiC_Itri_2', 'GCF_021218885.1_Marmota_monax_Labrador192_V1.0', 'GCF_003676075.2_GSC_YBM_2.0',\n",
    "       'GCF_001458135.1_marMar2.1', 'GCA_921997135.2_SPRET_EiJ_v3','Mouse_MALAT1', 'GCA_003336285.2_MUSP714_v2', \n",
    "       'GCA_902729485.2_Mus_minutoides_I2396_v1', 'GCF_900095145.1_PAHARI_EIJ_v1.1', 'GCA_002007465.1_ASM200746v1']\n",
    "xlim = 10000\n",
    "text_start = -3500\n",
    "filename = 'with_TEs'\n",
    "figsize=(12, 4)\n",
    "fsizeticks = 7\n",
    "fsizeleg = 6\n",
    "fontsize=7\n",
    "namelength = 'long'\n",
    "print_alignment(genomes, filename, figsize, text_start, xlim,fsizeticks,fsizeleg, fontsize, namelength,'','')"
   ]
  },
  {
   "cell_type": "code",
   "execution_count": null,
   "id": "582cf3e9",
   "metadata": {},
   "outputs": [],
   "source": []
  },
  {
   "cell_type": "code",
   "execution_count": null,
   "id": "7557b0d2",
   "metadata": {},
   "outputs": [],
   "source": []
  },
  {
   "cell_type": "code",
   "execution_count": null,
   "id": "aac00d71",
   "metadata": {},
   "outputs": [],
   "source": []
  },
  {
   "cell_type": "code",
   "execution_count": null,
   "id": "c2ce07bf",
   "metadata": {},
   "outputs": [],
   "source": []
  }
 ],
 "metadata": {
  "kernelspec": {
   "display_name": "Python 3 (ipykernel)",
   "language": "python",
   "name": "python3"
  },
  "language_info": {
   "codemirror_mode": {
    "name": "ipython",
    "version": 3
   },
   "file_extension": ".py",
   "mimetype": "text/x-python",
   "name": "python",
   "nbconvert_exporter": "python",
   "pygments_lexer": "ipython3",
   "version": "3.7.0"
  }
 },
 "nbformat": 4,
 "nbformat_minor": 5
}
