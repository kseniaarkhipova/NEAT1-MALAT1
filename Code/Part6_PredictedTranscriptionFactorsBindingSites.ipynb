{
 "cells": [
  {
   "cell_type": "code",
   "execution_count": 1,
   "id": "5b3607df",
   "metadata": {},
   "outputs": [],
   "source": [
    "import json\n",
    "\n",
    "go_files = './genes/GO/'\n",
    "GO = json.load(open(go_files + \"Gene_to_GO.json\",\"r\"))\n",
    "GOAnnot = json.load(open(go_files + \"GO_annot.json\",\"r\"))\n",
    "import numpy as np"
   ]
  },
  {
   "cell_type": "code",
   "execution_count": 2,
   "id": "f0d26f02",
   "metadata": {},
   "outputs": [
    {
     "name": "stdout",
     "output_type": "stream",
     "text": [
      "501 784\n"
     ]
    }
   ],
   "source": [
    "#Parse the outcome of FIMO search of TF binding sites from JASPAR database\n",
    "tf = {}\n",
    "gene ={}\n",
    "with open('./TFbinding/fimo_out_all_NEAT1/fimo_all') as file1:\n",
    "    for line in file1:\n",
    "        if not line.startswith('motif_id') and not line.startswith('#') and len(line) > 5:\n",
    "            dat = line.strip().split('\\t')\n",
    "            if dat[1] not in tf:\n",
    "                tf[dat[1]] = {}\n",
    "            tf[dat[1]][dat[2]] = ''\n",
    "            if dat[2] not in gene:\n",
    "                gene[dat[2]] = {}\n",
    "            gene[dat[2]][dat[1]] = ''\n",
    "print(len(gene), len(tf))         "
   ]
  },
  {
   "cell_type": "code",
   "execution_count": 3,
   "id": "d422eef2",
   "metadata": {},
   "outputs": [
    {
     "name": "stdout",
     "output_type": "stream",
     "text": [
      "216.37325349301398 33.06079809158737\n"
     ]
    }
   ],
   "source": [
    "#Average number of TFs per NEAT1 ortholog\n",
    "print(np.mean([len(gene[i]) for i in gene]),np.std([len(gene[i]) for i in gene]))"
   ]
  },
  {
   "cell_type": "code",
   "execution_count": 4,
   "id": "37b01d7f",
   "metadata": {},
   "outputs": [
    {
     "name": "stdout",
     "output_type": "stream",
     "text": [
      "[('PRDM9', 493), ('CTCF', 492), ('ZNF281', 492), ('KLF9', 490), ('ZNF148', 490), ('TFAP2C', 490), ('SP3', 490), ('KLF16', 490), ('PATZ1', 489), ('KLF4', 489), ('SP9', 489), ('TFAP2A', 489), ('KLF2', 489), ('SP8', 489), ('KLF5', 489), ('KLF14', 489), ('SP2', 489), ('KLF1', 489), ('ZNF610', 488), ('Wt1', 488), ('ZNF740', 488), ('KLF15', 488), ('ZNF460', 487), ('ZNF530', 487), ('KLF6', 487), ('KLF10', 487), ('SP4', 487), ('EGR1', 486), ('SP1', 486), ('KLF7', 486), ('KLF12', 484), ('EGR3', 483), ('KLF11', 482), ('RREB1', 481), ('KLF17', 479), ('EGR4', 474), ('MAZ', 473), ('JUN::JUNB', 473), ('E2F6', 472), ('THRB', 471), ('SP5', 469), ('ZNF93', 467), ('CREM', 467), ('THRA', 467), ('Nfatc1', 465), ('CREB3L4', 464), ('FOSL2::JUND', 464), ('Rarg', 464), ('ZNF701', 463), ('Nfat5', 463), ('FOSL2::JUN', 460), ('KLF3', 458), ('TBP', 457), ('ZIC5', 456), ('TFAP2B', 455), ('JDP2', 454), ('TCFL5', 454), ('CREB1', 454), ('CTCFL', 453), ('Creb5', 453), ('ESR2', 450), ('PAX5', 449), ('FOS', 448), ('ZNF320', 446), ('Npas4', 443), ('TFEC', 442), ('ATF2', 442), ('PLAG1', 439), ('ZIC1', 438), ('ZIC4', 438), ('Nr1H4', 435), ('FOSB::JUN', 434), ('VEZF1', 433), ('JUNB', 430), ('FOSL2::JUNB', 430), ('ATF7', 424), ('FOS::JUN', 419), ('ZNF454', 416), ('ATF3', 416), ('Nr1H2', 416), ('TEAD4', 412), ('ZNF263', 411), ('ZFP14', 409), ('FOSL1::JUND', 408), ('ZBTB14', 407), ('ZNF682', 397), ('Plagl1', 391), ('EWSR1-FLI1', 389), ('TEAD1', 387), ('FOSL1::JUN', 385), ('NR2C2', 383), ('GLIS2', 383), ('ZNF331', 383), ('Zic3', 382), ('Atf1', 382), ('JUN', 381), ('JUND', 380), ('Arntl', 379), ('ZNF816', 378), ('CDX1', 377)]\n"
     ]
    }
   ],
   "source": [
    "#Make a dictionary TF:number of orthologs possessing it\n",
    "tfc = {i:len(tf[i]) for i in tf}\n",
    "#Sort it and print top 100\n",
    "a = sorted(tfc.keys(), key=lambda kv: tfc[kv],reverse=True)\n",
    "print([(i,tfc[i]) for i in a[:100]])"
   ]
  },
  {
   "cell_type": "code",
   "execution_count": 8,
   "id": "8f9ea879",
   "metadata": {},
   "outputs": [
    {
     "name": "stdout",
     "output_type": "stream",
     "text": [
      "123\n"
     ]
    }
   ],
   "source": [
    "#Make a list of TF shared by 65% of NEAT1 orthologs\n",
    "NeatTF = [i for i in tfc if tfc[i] >= len(gene)*0.65]\n",
    "print(len(NeatTF))"
   ]
  },
  {
   "cell_type": "markdown",
   "id": "27dfe12b",
   "metadata": {},
   "source": [
    "### The same for MALAT1"
   ]
  },
  {
   "cell_type": "code",
   "execution_count": 27,
   "id": "88e31965",
   "metadata": {},
   "outputs": [
    {
     "name": "stdout",
     "output_type": "stream",
     "text": [
      "467 785\n"
     ]
    }
   ],
   "source": [
    "tf = {}\n",
    "gene ={}\n",
    "with open('./TFbinding/fimo_out_MALAT_all/fimo') as file1:\n",
    "    for line in file1:\n",
    "        if not line.startswith('motif_id') and not line.startswith('#') and len(line) > 5:\n",
    "            dat = line.strip().split('\\t')\n",
    "            if dat[1] not in tf:\n",
    "                tf[dat[1]] = {}\n",
    "            tf[dat[1]][dat[2]] = ''\n",
    "            if dat[2] not in gene:\n",
    "                gene[dat[2]] = {}\n",
    "            gene[dat[2]][dat[1]] = ''\n",
    "print(len(gene), len(tf))        "
   ]
  },
  {
   "cell_type": "code",
   "execution_count": 30,
   "id": "526e5532",
   "metadata": {
    "scrolled": true
   },
   "outputs": [
    {
     "name": "stdout",
     "output_type": "stream",
     "text": [
      "168.2119914346895 29.309980791165888\n"
     ]
    }
   ],
   "source": [
    "#Average number of TFs per MALAT1 ortholog\n",
    "print(np.mean([len(gene[i]) for i in gene]),np.std([len(gene[i]) for i in gene]))"
   ]
  },
  {
   "cell_type": "code",
   "execution_count": 14,
   "id": "7726fca2",
   "metadata": {},
   "outputs": [
    {
     "name": "stdout",
     "output_type": "stream",
     "text": [
      "[('MEF2A', 458), ('MEF2C', 444), ('ZFP42', 427), ('Wt1', 414), ('Yy1', 403), ('MEF2D', 397), ('MEF2B', 390), ('TBP', 379), ('ZNF460', 370), ('HSF2', 364), ('ZFP14', 361), ('SP1', 361), ('PATZ1', 345), ('ZNF701', 344), ('HSF4', 344), ('HSF1', 340), ('ZNF281', 330), ('TFAP2C', 328), ('TFAP2A', 328), ('EGR1', 324), ('ZNF740', 311), ('PLAG1', 310), ('ZNF454', 305), ('Elf5', 305), ('KLF16', 303), ('Prdm15', 300), ('SP4', 291), ('HOXC13', 290), ('HLF', 287), ('Sox6', 283), ('ZNF148', 282), ('TFAP2B', 277), ('KLF2', 277), ('SP8', 276), ('PRDM9', 274), ('ZNF610', 272), ('KLF9', 267), ('EGR4', 267), ('SP9', 266), ('THRB', 266), ('KLF4', 264), ('ZNF320', 264), ('NR4A1', 264), ('SOX15', 263), ('KLF1', 261), ('SP5', 260), ('E2F6', 256), ('TEF', 255), ('VEZF1', 255), ('ZNF263', 254), ('RREB1', 252), ('KLF7', 251), ('NFIL3', 251), ('DBP', 249), ('EGR3', 247), ('CTCF', 245), ('MAZ', 244), ('ZNF549', 239), ('Sox11', 237), ('Nr5A2', 237), ('STAT1::STAT2', 235), ('MTF1', 235), ('ESRRA', 234), ('Zfp335', 232), ('CTCFL', 229), ('KLF10', 228), ('KLF5', 227), ('NR4A2', 224), ('Nfatc2', 222), ('EWSR1-FLI1', 220), ('TBX18', 220), ('ZBTB26', 220), ('Prdm4', 219), ('GLIS2', 219), ('ZNF530', 218), ('Esrrg', 218), ('Foxo1', 216), ('ZNF528', 215), ('ZNF416', 208), ('KLF14', 208), ('ZBTB6', 207), ('ESRRB', 207), ('Zic1::Zic2', 205), ('FOXO1::FLI1', 204), ('KLF6', 203), ('NR2C2', 203), ('TBX3', 202), ('Zfx', 201), ('ZIC5', 201), ('ZNF384', 200), ('ZIC1', 198), ('KLF11', 198), ('ZIC4', 197), ('KLF12', 195), ('Tbx6', 195), ('KLF17', 193), ('ZNF669', 193), ('TBX20', 192), ('STAT3', 189), ('SP3', 188)]\n"
     ]
    }
   ],
   "source": [
    "#Make a dictionary TF:number of orthologs possessing it\n",
    "tfc = {i:len(tf[i]) for i in tf}\n",
    "a = sorted(tfc.keys(), key=lambda kv: tfc[kv],reverse=True)\n",
    "print([(i,tfc[i]) for i in a[:100]])\n",
    "#Make a list of TF shared by 65% of MALAT1 orthologs\n",
    "MalatTF = [i for i in tfc if tfc[i] >= len(gene)*0.65]"
   ]
  },
  {
   "cell_type": "code",
   "execution_count": 36,
   "id": "a3b50cb5",
   "metadata": {},
   "outputs": [],
   "source": [
    "#Make an annotation of shared TF with GO terms\n",
    "out = open('./GO_MALAT1_TF_top25','w')\n",
    "gocount = {}\n",
    "gocount2 = {}\n",
    "for gene in MalatTF:\n",
    "    if gene in GO:\n",
    "        for idx in GO[gene]['GO']:\n",
    "            if idx not in gocount:\n",
    "                gocount[idx] = 0\n",
    "                gocount2[idx] = []\n",
    "            gocount[idx] += 1\n",
    "            gocount2[idx].append(gene)\n",
    "            l = [gene,GO[gene]['Description'] ,idx, GOAnnot[idx]['name'],GOAnnot[idx]['namespace']]\n",
    "            out.write('\\t'.join(l) + '\\n')\n",
    "    else:\n",
    "        out.write(gene + '\\n')\n",
    "out.close()\n",
    "with open('./GO_MALAT1_TF_top25_summary','w') as out:\n",
    "    for idx in sorted(gocount.keys(), key=lambda kv: gocount[kv],reverse=True):\n",
    "        out.write('\\t'.join([str(gocount[idx]),idx,GOAnnot[idx]['name'],GOAnnot[idx]['namespace'],\n",
    "                             ';'.join(gocount2[idx])]) + '\\n')\n",
    "out = open('./GO_NEAT1_TF_top123','w')\n",
    "gocount = {}\n",
    "gocount2 = {}\n",
    "for gene in NeatTF:\n",
    "    if gene in GO:\n",
    "        for idx in GO[gene]['GO']:\n",
    "            if idx not in gocount:\n",
    "                gocount[idx] = 0\n",
    "                gocount2[idx] = []\n",
    "            gocount[idx] += 1\n",
    "            gocount2[idx].append(gene)\n",
    "            l = [gene,GO[gene]['Description'] ,idx, GOAnnot[idx]['name'],GOAnnot[idx]['namespace']]\n",
    "            out.write('\\t'.join(l) + '\\n')\n",
    "    else:\n",
    "        out.write(gene + '\\n')\n",
    "out.close()\n",
    "with open('./GO_NEAT1_TF_top123_summary','w') as out:\n",
    "    for idx in sorted(gocount.keys(), key=lambda kv: gocount[kv],reverse=True):\n",
    "        out.write('\\t'.join([str(gocount[idx]),idx,GOAnnot[idx]['name'],GOAnnot[idx]['namespace'],\n",
    "                             ';'.join(gocount2[idx])]) + '\\n')\n",
    " "
   ]
  },
  {
   "cell_type": "code",
   "execution_count": null,
   "id": "9c4f5aa2",
   "metadata": {},
   "outputs": [],
   "source": []
  }
 ],
 "metadata": {
  "kernelspec": {
   "display_name": "Python 3 (ipykernel)",
   "language": "python",
   "name": "python3"
  },
  "language_info": {
   "codemirror_mode": {
    "name": "ipython",
    "version": 3
   },
   "file_extension": ".py",
   "mimetype": "text/x-python",
   "name": "python",
   "nbconvert_exporter": "python",
   "pygments_lexer": "ipython3",
   "version": "3.7.0"
  }
 },
 "nbformat": 4,
 "nbformat_minor": 5
}
