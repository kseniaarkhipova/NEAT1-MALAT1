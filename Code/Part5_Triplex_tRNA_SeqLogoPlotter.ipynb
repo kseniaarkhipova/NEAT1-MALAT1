{
 "cells": [
  {
   "cell_type": "code",
   "execution_count": 1,
   "id": "fce2a68a",
   "metadata": {},
   "outputs": [],
   "source": [
    "import matplotlib.pyplot as plt\n"
   ]
  },
  {
   "cell_type": "code",
   "execution_count": 33,
   "id": "f7385dbd",
   "metadata": {},
   "outputs": [],
   "source": [
    "msa = {}\n",
    "seq_file = './MSA/Final/msa_both_triplex-trna.fasta'\n",
    "with open(seq_file) as file1:\n",
    "    fl = 0\n",
    "    for line in file1:\n",
    "        if line.startswith('>') and fl == 0:\n",
    "            l = []\n",
    "            name = line.rstrip().lstrip('>')\n",
    "            fl = 1\n",
    "        elif line.startswith('>') and fl == 1:\n",
    "            msa[name] = ''.join(l)\n",
    "            l = []\n",
    "            name = line.rstrip().lstrip('>')\n",
    "        elif not line.startswith('>'):\n",
    "            l.append(line.strip())\n",
    "    msa[name] = ''.join(l)"
   ]
  },
  {
   "cell_type": "code",
   "execution_count": 35,
   "id": "84bbf5cd",
   "metadata": {},
   "outputs": [
    {
     "data": {
      "image/png": "[encoded data removed]",
      "text/plain": [
       "<Figure size 1656x216 with 1 Axes>"
      ]
     },
     "metadata": {
      "needs_background": "light"
     },
     "output_type": "display_data"
    }
   ],
   "source": [
    "lenmsa = 205\n",
    "columns = {}\n",
    "order = [i for i in msa if 'NEAT1' in i]\n",
    "for i in range(lenmsa):\n",
    "    columns[i] = []\n",
    "    for item in order:\n",
    "        columns[i].append(msa[item][i])\n",
    "colors = {'-':'#ffffff','a':'#ef8f6e','t':'#b2bc76','g':'#665075','c':'#c75554'}\n",
    "\n",
    "letters = ['a','g','c','t','-']\n",
    "positions = [i for i in range(lenmsa)]\n",
    "\n",
    "    \n",
    "plt.figure(figsize=(23, 3))\n",
    "bottom = [0 for i in positions]    \n",
    "for let in letters:\n",
    "    perc = [(columns[i].count(let) / len(order)) * 100 for i in positions]\n",
    "    \n",
    "    plt.bar(positions, perc,color=colors[let], bottom=bottom,label=let)\n",
    "    \n",
    "    for i in positions:\n",
    "        bottom[i] += perc[i]\n",
    "plt.legend(bbox_to_anchor=(1, 1),loc='upper left',fontsize=8)\n",
    "plt.box(False)\n",
    "plt.tight_layout()\n",
    "plt.savefig('./Figures_Diverse/triplex_tRNA_NEAT1_logo.pdf', dpi=300, bbox_inches='tight')"
   ]
  },
  {
   "cell_type": "code",
   "execution_count": 38,
   "id": "38b43c3e",
   "metadata": {},
   "outputs": [
    {
     "data": {
      "image/png": "[encoded data removed]",
      "text/plain": [
       "<Figure size 1656x216 with 1 Axes>"
      ]
     },
     "metadata": {
      "needs_background": "light"
     },
     "output_type": "display_data"
    }
   ],
   "source": [
    "lenmsa = 205\n",
    "columns = {}\n",
    "order = [i for i in msa if 'MALAT1' in i]\n",
    "\n",
    "for i in range(lenmsa):\n",
    "    columns[i] = []\n",
    "    for item in order:\n",
    "        columns[i].append(msa[item][i])\n",
    "colors = {'-':'#ffffff','a':'#ef8f6e','t':'#b2bc76','g':'#665075','c':'#c75554'}\n",
    "\n",
    "letters = ['a','g','c','t','-']\n",
    "positions = [i for i in range(lenmsa)]\n",
    "\n",
    "    \n",
    "plt.figure(figsize=(23, 3))\n",
    "bottom = [0 for i in positions]    \n",
    "for let in letters:\n",
    "    perc = [(columns[i].count(let) / len(order)) * 100 for i in positions]\n",
    "    \n",
    "    plt.bar(positions, perc,color=colors[let], bottom=bottom,label=let)\n",
    "    \n",
    "    for i in positions:\n",
    "        bottom[i] += perc[i]\n",
    "plt.legend(bbox_to_anchor=(1, 1),loc='upper left',fontsize=8)\n",
    "plt.box(False)\n",
    "plt.tight_layout()\n",
    "plt.savefig('./Figures_Diverse/triplex_tRNA_MALAT1_logo.pdf', dpi=300, bbox_inches='tight')"
   ]
  },
  {
   "cell_type": "code",
   "execution_count": null,
   "id": "05c46bce",
   "metadata": {},
   "outputs": [],
   "source": []
  }
 ],
 "metadata": {
  "kernelspec": {
   "display_name": "Python 3 (ipykernel)",
   "language": "python",
   "name": "python3"
  },
  "language_info": {
   "codemirror_mode": {
    "name": "ipython",
    "version": 3
   },
   "file_extension": ".py",
   "mimetype": "text/x-python",
   "name": "python",
   "nbconvert_exporter": "python",
   "pygments_lexer": "ipython3",
   "version": "3.7.0"
  }
 },
 "nbformat": 4,
 "nbformat_minor": 5
}
