{
 "cells": [
  {
   "cell_type": "code",
   "execution_count": 2,
   "id": "12054db2",
   "metadata": {},
   "outputs": [],
   "source": [
    "Archetypes = ['GCF_015852505.1_mTacAcu1.pri', 'GCF_016433145.1_AgileGrace', 'GCA_016432865.2_AdamAnt_v2',\n",
    "         'GCF_000313985.2_ASM31398v2', 'GCA_000152225.2_Pcap_2.0', 'GCF_014898055.1_MPIMG_talOcc4',\n",
    "         'GCF_000296755.1_EriEur2.0', 'GCA_029834395.2_SorCin_2.1', 'Human_NEAT1', 'GCA_013371645.1_OryCun3.0',\n",
    "         'GCF_014633375.1_OchPri4.0', 'GCF_020740685.1_mJacJac1.mat.Y.cur', 'GCA_023101885.1_KIZ_TCIN_v1.0',\n",
    "         'Mouse_NEAT1','GCF_019054845.1_ASM1905484v1', 'GCA_004027875.1_AplRuf_v1_BIUU']"
   ]
  },
  {
   "cell_type": "code",
   "execution_count": null,
   "id": "fc7e83ad",
   "metadata": {},
   "outputs": [],
   "source": [
    "#Make a dictionary with latin names of orthologs\n",
    "latin = {}\n",
    "with open('Metadata') as file1:\n",
    "    for line in file1:\n",
    "        dat = line.strip().split('\\t')\n",
    "        if not line.startswith('#'):\n",
    "            dat = line.strip().split('\\t')\n",
    "            latin[dat[0]] = dat[1]"
   ]
  },
  {
   "cell_type": "code",
   "execution_count": 1,
   "id": "74f9f347",
   "metadata": {},
   "outputs": [],
   "source": [
    "#Parse NEAT1 orthologs FASTA file\n",
    "nseq = {}\n",
    "seq_file = './NEAT1_gene_all.fasta'\n",
    "with open(seq_file) as file1:\n",
    "    fl = 0\n",
    "    for line in file1:\n",
    "        if line.startswith('>') and fl == 0:\n",
    "            l = []\n",
    "            name = line.rstrip().lstrip('>')\n",
    "            fl = 1\n",
    "        elif line.startswith('>') and fl == 1:\n",
    "            nseq[name] = ''.join(l)\n",
    "            l = []\n",
    "            name = line.rstrip().lstrip('>')\n",
    "        elif not line.startswith('>'):\n",
    "            l.append(line.strip())\n",
    "    nseq[name] = ''.join(l)"
   ]
  },
  {
   "cell_type": "code",
   "execution_count": 3,
   "id": "025aa261",
   "metadata": {},
   "outputs": [],
   "source": [
    "#Count 6mers\n",
    "kmers = {}\n",
    "for gene in Archetypes:\n",
    "    kmers[gene] = {}\n",
    "    for i in range(len(nseq[gene])-5):\n",
    "        kmer = nseq[gene][i:i+6]\n",
    "        if kmer not in kmers[gene]:\n",
    "            kmers[gene][kmer] = 0\n",
    "        kmers[gene][kmer] += 1"
   ]
  },
  {
   "cell_type": "code",
   "execution_count": 4,
   "id": "f5f4ce6a",
   "metadata": {},
   "outputs": [
    {
     "name": "stdout",
     "output_type": "stream",
     "text": [
      "GCF_015852505.1_mTacAcu1.pri 3798\n",
      "[('CCCCCC', 61), ('AGGCAG', 56), ('GACAGA', 54), ('GAGGCA', 46), ('ACAGAC', 44)]\n",
      "GCF_016433145.1_AgileGrace 3822\n",
      "[('TTTTTT', 121), ('TTTATT', 57), ('ATTTTT', 57), ('AAAAAA', 55), ('TTCTTT', 55)]\n",
      "GCA_016432865.2_AdamAnt_v2 3772\n",
      "[('TTTTTT', 109), ('TTTATT', 76), ('AAAAAA', 74), ('TTTTAT', 72), ('TTATTT', 72)]\n",
      "GCF_000313985.2_ASM31398v2 3687\n",
      "[('GGAGGG', 26), ('TTTTTT', 24), ('GGGAGG', 22), ('GTGGGG', 22), ('GAGGAG', 21)]\n",
      "GCA_000152225.2_Pcap_2.0 3601\n",
      "[('TTTTTT', 48), ('TGTTTT', 44), ('TGTGTG', 33), ('TTTTTA', 33), ('TTTTCT', 32)]\n",
      "GCF_014898055.1_MPIMG_talOcc4 3650\n",
      "[('TTTTTT', 49), ('TTTTAA', 33), ('TTTTTA', 29), ('GGGGAG', 25), ('CTGGGG', 24)]\n",
      "GCF_000296755.1_EriEur2.0 3666\n",
      "[('TTTTTT', 51), ('TTTATT', 36), ('TTATTT', 34), ('CCCCCC', 30), ('AGAGAG', 27)]\n",
      "GCA_029834395.2_SorCin_2.1 3761\n",
      "[('CCCAGG', 34), ('TTTCTG', 28), ('TTGTTT', 27), ('TGTTTT', 27), ('TGGGGG', 25)]\n",
      "Human_NEAT1 3630\n",
      "[('TGTGTG', 76), ('TTTTTT', 68), ('GTGTGT', 66), ('AAAAAA', 61), ('TTTTTA', 44)]\n",
      "GCA_013371645.1_OryCun3.0 3590\n",
      "[('TGTGTG', 73), ('GTGTGT', 73), ('GGGGTG', 52), ('GTGTGA', 50), ('AGTGTG', 49)]\n",
      "GCF_014633375.1_OchPri4.0 3692\n",
      "[('TGTGTG', 51), ('GTGTGT', 40), ('CTGTGT', 31), ('CTGCTG', 28), ('TTTATT', 26)]\n",
      "GCF_020740685.1_mJacJac1.mat.Y.cur 3520\n",
      "[('TTTTTT', 117), ('GTGTGT', 58), ('TGTGTG', 53), ('TTTGTT', 40), ('TGTTTT', 40)]\n",
      "GCA_023101885.1_KIZ_TCIN_v1.0 3692\n",
      "[('TGTGTG', 65), ('GTGTGT', 60), ('TTTTTT', 42), ('TTTTAA', 31), ('TCTGTG', 29)]\n",
      "Mouse_NEAT1 3651\n",
      "[('TTTTTT', 79), ('TGTGTG', 48), ('GTGTGT', 37), ('TTGTTT', 36), ('TGTTTT', 35)]\n",
      "GCF_019054845.1_ASM1905484v1 3581\n",
      "[('TTTTTT', 72), ('TTTTCT', 38), ('TTTTTC', 31), ('ATTTTT', 30), ('TTTTAA', 29)]\n",
      "GCA_004027875.1_AplRuf_v1_BIUU 3712\n",
      "[('TTTTTT', 49), ('TGTGTG', 42), ('GTGTGT', 42), ('CTGCTG', 27), ('CTGGGG', 26)]\n"
     ]
    }
   ],
   "source": [
    "#Select the top 20 the most abundant kmers per archetype\n",
    "abund = {}\n",
    "for item in kmers:\n",
    "    print(item, len(kmers[item]))\n",
    "    loc = sorted(kmers[item].keys(), key=lambda kv: kmers[item][kv], reverse=True)[:20]\n",
    "    for i in loc:\n",
    "        abund[i] = ''\n",
    "    \n",
    "    print([(i,kmers[item][i]) for i in sorted(kmers[item].keys(), key=lambda kv: kmers[item][kv], reverse=True)[:5]])"
   ]
  },
  {
   "cell_type": "code",
   "execution_count": 10,
   "id": "8332ff8d",
   "metadata": {},
   "outputs": [],
   "source": [
    "#Write into file\n",
    "out = open('./AbundantNEAT1Orthologs6mers_top20','w')\n",
    "out.write('#kmer\\t' + '\\t'.join([latin[i] for i in Archetypes]) + '\\n')\n",
    "\n",
    "for kmer in abund:\n",
    "    l = [kmer]\n",
    "    for gene in kmers:\n",
    "        if kmer in kmers[gene]:\n",
    "            l.append(str(kmers[gene][kmer]))\n",
    "        else:\n",
    "            l.append('0')\n",
    "    out.write('\\t'.join(l) + '\\n')\n",
    "out.close()"
   ]
  }
 ],
 "metadata": {
  "kernelspec": {
   "display_name": "Python 3 (ipykernel)",
   "language": "python",
   "name": "python3"
  },
  "language_info": {
   "codemirror_mode": {
    "name": "ipython",
    "version": 3
   },
   "file_extension": ".py",
   "mimetype": "text/x-python",
   "name": "python",
   "nbconvert_exporter": "python",
   "pygments_lexer": "ipython3",
   "version": "3.7.0"
  }
 },
 "nbformat": 4,
 "nbformat_minor": 5
}
