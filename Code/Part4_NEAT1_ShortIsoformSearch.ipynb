{
 "cells": [
  {
   "cell_type": "code",
   "execution_count": 1,
   "id": "6609a21a",
   "metadata": {},
   "outputs": [],
   "source": [
    "polya = 'AATAAA'\n",
    "import numpy as np"
   ]
  },
  {
   "cell_type": "code",
   "execution_count": 2,
   "id": "2540e5ae",
   "metadata": {},
   "outputs": [],
   "source": [
    "seq = {}\n",
    "seq_file = 'NEAT1_gene_all.fasta'\n",
    "with open(seq_file) as file1:\n",
    "    fl = 0\n",
    "    for line in file1:\n",
    "        if line.startswith('>') and fl == 0:\n",
    "            l = []\n",
    "            name = line.rstrip().lstrip('>')\n",
    "            fl = 1\n",
    "        elif line.startswith('>') and fl == 1:\n",
    "            seq[name] = ''.join(l)\n",
    "            l = []\n",
    "            name = line.rstrip().lstrip('>')\n",
    "        elif not line.startswith('>'):\n",
    "            l.append(line.strip())\n",
    "    seq[name] = ''.join(l)"
   ]
  },
  {
   "cell_type": "code",
   "execution_count": 3,
   "id": "2b6c91bc",
   "metadata": {},
   "outputs": [],
   "source": [
    "#Function to identify all locations of PAS\n",
    "def index_finder(gene):\n",
    "    kmer=polya\n",
    "    indexes = []\n",
    "    size = len(kmer)\n",
    "    num_kmers = len(gene) - size + 1\n",
    "    for i in range(num_kmers):\n",
    "        loc_kmer = gene[i:i+size]\n",
    "        if loc_kmer == kmer:\n",
    "            indexes.append(i)\n",
    "    return(indexes)\n",
    "#Make a dictionary with all identified polya hexamers\n",
    "poly = {i:index_finder(seq[i]) for i in seq}"
   ]
  },
  {
   "cell_type": "code",
   "execution_count": 6,
   "id": "efebbc13",
   "metadata": {},
   "outputs": [],
   "source": [
    "#Parse multiple sequence alignment file with 4kb fragments of all orthologs\n",
    "seq_file = 'MSA_NEAT1_First4kb_withoutMarsupials.fasta'\n",
    "msa = {}\n",
    "with open(seq_file) as file1:\n",
    "    fl = 0\n",
    "    for line in file1:\n",
    "        if line.startswith('>') and fl == 0:\n",
    "            l = []\n",
    "            name = line.rstrip().lstrip('>')\n",
    "            fl = 1\n",
    "        elif line.startswith('>') and fl == 1:\n",
    "            msa[name] = ''.join(l)\n",
    "            l = []\n",
    "            name = line.rstrip().lstrip('>')\n",
    "        elif not line.startswith('>'):\n",
    "            l.append(line.strip())\n",
    "    msa[name] = ''.join(l)"
   ]
  },
  {
   "cell_type": "code",
   "execution_count": 10,
   "id": "f0ecbbad",
   "metadata": {},
   "outputs": [],
   "source": [
    "#Make a dictionary of coordinate correspondent to human NEAT1 PAS in other orthologs\n",
    "coorHumanPAS = 10608\n",
    "length = {}\n",
    "for item in msa:\n",
    "    length[item] = len(msa[item][:coorHumanPAS].replace('-',''))"
   ]
  },
  {
   "cell_type": "code",
   "execution_count": 12,
   "id": "a7627443",
   "metadata": {},
   "outputs": [
    {
     "name": "stdout",
     "output_type": "stream",
     "text": [
      "GCF_001458135.1_marMar2.1\n",
      "GCF_000412655.1_ASM41265v1\n",
      "GCF_002007445.1_ASM200744v2\n"
     ]
    }
   ],
   "source": [
    "#Identify PASs in other orthologs in proximity (220bp) to human NEAT1 PAS\n",
    "pred = {}\n",
    "out = open('Predicted_PASs','w')\n",
    "for item in length:\n",
    "    if item in poly:\n",
    "        r = range(length[item]-110,length[item])\n",
    "        predicted = []\n",
    "        for pas in poly[item]:\n",
    "            if pas in r:\n",
    "                predicted.append(str(pas))\n",
    "        if len(predicted) == 1:\n",
    "            pred[item] = int(predicted[0])\n",
    "            out.write(item + '\\t' + str(predicted[0]) + '\\n')\n",
    "        else:\n",
    "            if not predicted:\n",
    "                print(item)\n",
    "            else:\n",
    "                print('two sites',item)\n",
    "\n",
    "out.close()"
   ]
  },
  {
   "cell_type": "markdown",
   "id": "91234822",
   "metadata": {},
   "source": [
    "Do the same for Marsupials"
   ]
  },
  {
   "cell_type": "code",
   "execution_count": 7,
   "id": "b65f1d54",
   "metadata": {},
   "outputs": [],
   "source": [
    "Mars=['MONOTREMATA','DIDELPHIMORPHIA','MICROBIOTHERIA','DIPROTODONTIA','DASYUROMORPHIA']\n",
    "tax_order = {}\n",
    "with open('Metadata') as file1:\n",
    "    for line in file1:\n",
    "        if not line.startswith('#') and dat[3] == '1':\n",
    "            dat = line.strip().split('\\t')\n",
    "            tax_order[dat[0]] = dat[17]\n",
    "            "
   ]
  },
  {
   "cell_type": "code",
   "execution_count": 2,
   "id": "e3060e1f",
   "metadata": {},
   "outputs": [],
   "source": [
    "msa = {}\n",
    "seq_file = 'MSA_NEAT1_First4kb_Marsupials.fasta'\n",
    "with open(seq_file) as file1:\n",
    "    fl = 0\n",
    "    for line in file1:\n",
    "        if line.startswith('>') and fl == 0:\n",
    "            l = []\n",
    "            name = line.rstrip().lstrip('>')\n",
    "            fl = 1\n",
    "        elif line.startswith('>') and fl == 1:\n",
    "            msa[name] = ''.join(l)\n",
    "            l = []\n",
    "            name = line.rstrip().lstrip('>')\n",
    "        elif not line.startswith('>'):\n",
    "            l.append(line.strip())\n",
    "    msa[name] = ''.join(l)"
   ]
  },
  {
   "cell_type": "code",
   "execution_count": 48,
   "id": "8cb3901d",
   "metadata": {},
   "outputs": [
    {
     "name": "stdout",
     "output_type": "stream",
     "text": [
      "GCF_015852505.1_mTacAcu1.pri\n",
      "two sites GCA_011680675.1_LBP_v1 ['3364', '3396']\n",
      "GCF_016433145.1_AgileGrace\n"
     ]
    }
   ],
   "source": [
    "out = open('Predicted_PASs_Marsupials','w')\n",
    "for item in msa:\n",
    "    l = len(msa[item][:4615].replace('-',''))\n",
    "    r = range(l-110,l+10)\n",
    "    predicted = []\n",
    "    for pas in poly[item]:\n",
    "        if pas in r:\n",
    "            predicted.append(str(pas))\n",
    "    if len(predicted) == 1:\n",
    "        pred[item] = int(predicted[0])\n",
    "        out.write(item + '\\t' + str(predicted[0]) + '\\n')\n",
    "    else:\n",
    "        if not predicted:\n",
    "            if item == 'GCF_015852505.1_mTacAcu1.pri':\n",
    "                pred[item] = 3829\n",
    "            print(item)\n",
    "        else:\n",
    "            pred[item] = 3396\n",
    "            print('two sites',item, predicted)\n",
    "\n",
    "out.close()"
   ]
  }
 ],
 "metadata": {
  "kernelspec": {
   "display_name": "Python 3 (ipykernel)",
   "language": "python",
   "name": "python3"
  },
  "language_info": {
   "codemirror_mode": {
    "name": "ipython",
    "version": 3
   },
   "file_extension": ".py",
   "mimetype": "text/x-python",
   "name": "python",
   "nbconvert_exporter": "python",
   "pygments_lexer": "ipython3",
   "version": "3.7.0"
  }
 },
 "nbformat": 4,
 "nbformat_minor": 5
}
