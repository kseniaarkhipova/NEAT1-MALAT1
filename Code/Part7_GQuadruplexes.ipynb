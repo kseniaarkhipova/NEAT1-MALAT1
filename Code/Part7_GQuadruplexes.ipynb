{
 "cells": [
  {
   "cell_type": "code",
   "execution_count": 1,
   "id": "0f1e6c4f",
   "metadata": {},
   "outputs": [],
   "source": [
    "import json\n",
    "import numpy as np\n",
    "import matplotlib.pyplot as plt\n",
    "from scipy import stats\n",
    "from matplotlib import rc\n",
    "rc('font',**{'family':'sans-serif','sans-serif':'Arial'})\n",
    "rc('text',usetex=True)"
   ]
  },
  {
   "cell_type": "markdown",
   "id": "b497dc9c",
   "metadata": {},
   "source": [
    "G-quadruplexes were predicted with pqsfinder software in R environment with the following code"
   ]
  },
  {
   "cell_type": "code",
   "execution_count": 1,
   "id": "77f51689",
   "metadata": {},
   "outputs": [],
   "source": [
    "####R environment\n",
    "\n",
    "#library(pqsfinder)\n",
    "\n",
    "#filepath1 <- \"NEAT1_gene_all.fasta\"\n",
    "#sequences <- readDNAStringSet(filepath1)\n",
    "#fileout = \"NEAT1_GQuad\"\n",
    "\n",
    "#for (i in 1:length(sequences)) {\n",
    "#  myseq <- sequences[[i]]\n",
    "  \n",
    "#  pqs <-pqsfinder(myseq, strand=\"+\", verbose = FALSE)\n",
    "#  if (length(pqs@elementMetadata@listData[[\"score\"]]) > 0)\n",
    "#  {\n",
    "#    dss <-as(pqs, \"DNAStringSet\")\n",
    "#    dss.df <- as.data.frame (dss)\n",
    "#    row.names(dss.df)\n",
    "#    gr <- as(pqs, \"GRanges\" )\n",
    "#    gr.df <- as.data.frame (gr)\n",
    "#    row.names(gr.df)\n",
    "#    result <- cbind(sequences@ranges@NAMES[i],gr.df,dss.df)\n",
    "#    write.table(result, file=fileout, quote=F, sep=\"\\t\", row.names=F, col.names=F,append=T)\n",
    "    \n",
    "#  } else \n",
    "#  { write.table(sequences@ranges@NAMES[i], file=fileout, quote=F, sep=\"\\t\", row.names=F, col.names=F,append=T)} }\n"
   ]
  },
  {
   "cell_type": "code",
   "execution_count": 2,
   "id": "a5be11a2",
   "metadata": {},
   "outputs": [],
   "source": [
    "fl = 0\n",
    "GQ = {}\n",
    "with open('./GQuad/NEAT1_GQuad') as file1:\n",
    "    for line in file1:\n",
    "        dat = line.strip().split('\\t')\n",
    "        \n",
    "        if dat[0] not in GQ:\n",
    "            GQ[dat[0]] = []\n",
    "        GQ[dat[0]].append(int(dat[2]))\n",
    "\n",
    "json.dump(GQ, open(\"./GQuad/NEAT1_GQ.json\",\"w\"))           "
   ]
  },
  {
   "cell_type": "code",
   "execution_count": 3,
   "id": "2b6c5e16",
   "metadata": {},
   "outputs": [
    {
     "name": "stdout",
     "output_type": "stream",
     "text": [
      "515\n",
      "6 49\n",
      "19.236893203883493 5.938699643407975\n"
     ]
    }
   ],
   "source": [
    "print(len(GQ))\n",
    "l = [len(GQ[i]) for i in GQ]\n",
    "print(min(l),max(l))\n",
    "print(np.mean(l), np.std(l))"
   ]
  },
  {
   "cell_type": "code",
   "execution_count": 8,
   "id": "bc2189e4",
   "metadata": {},
   "outputs": [],
   "source": [
    "fl = 0\n",
    "GQ = {}\n",
    "with open('./GQuad/MALAT1_GQuad') as file1:\n",
    "    for line in file1:\n",
    "        dat = line.strip().split('\\t')\n",
    "        \n",
    "        if dat[0] not in GQ:\n",
    "            GQ[dat[0]] = []\n",
    "        GQ[dat[0]].append(int(dat[2]))\n",
    "\n",
    "json.dump(GQ, open(\"./GQuad/MALAT1_GQ.json\",\"w\"))           "
   ]
  },
  {
   "cell_type": "code",
   "execution_count": 5,
   "id": "6931009a",
   "metadata": {},
   "outputs": [
    {
     "name": "stdout",
     "output_type": "stream",
     "text": [
      "480\n",
      "4 20\n",
      "9.064583333333333 1.5725496260496483\n"
     ]
    }
   ],
   "source": [
    "print(len(GQ))\n",
    "l = [len(GQ[i]) for i in GQ]\n",
    "print(min(l),max(l))\n",
    "print(np.mean(l), np.std(l))"
   ]
  },
  {
   "cell_type": "code",
   "execution_count": 9,
   "id": "509b91c3",
   "metadata": {},
   "outputs": [],
   "source": [
    "fl = 0\n",
    "GQ = {}\n",
    "with open('./GQuad/CDSs_Orthologs_GQuad') as file1:\n",
    "    for line in file1:\n",
    "        dat = line.strip().split('\\t')\n",
    "        if len(dat) > 1:\n",
    "            if dat[0] not in GQ:\n",
    "                GQ[dat[0]] = []\n",
    "            GQ[dat[0]].append(int(dat[2]))\n",
    "        else:\n",
    "            GQ[dat[0]] = []\n",
    "json.dump(GQ, open(\"./GQuad/CDSs_Orthologs_GQ.json\",\"w\"))     "
   ]
  },
  {
   "cell_type": "code",
   "execution_count": 10,
   "id": "4a3b49f4",
   "metadata": {},
   "outputs": [],
   "source": [
    "GQgene = {}\n",
    "for item in GQ:\n",
    "    gene = item.split('|')[1].split(':')[0]\n",
    "    if gene not in GQgene:\n",
    "        GQgene[gene] = []\n",
    "    GQgene[gene].append(len(GQ[item]))\n",
    "json.dump(GQgene, open(\"./GQuad/CDSs_Orthologs_GQ_CountPerGene.json\",\"w\"))    "
   ]
  },
  {
   "cell_type": "code",
   "execution_count": 5,
   "id": "bd806982",
   "metadata": {},
   "outputs": [
    {
     "name": "stdout",
     "output_type": "stream",
     "text": [
      "15461\n"
     ]
    }
   ],
   "source": [
    "print(len(GQgene))"
   ]
  },
  {
   "cell_type": "code",
   "execution_count": 2,
   "id": "28269752",
   "metadata": {},
   "outputs": [],
   "source": [
    "GQgene = json.load(open(\"./GQuad/CDSs_Orthologs_GQ_CountPerGene.json\",\"r\"))"
   ]
  },
  {
   "cell_type": "code",
   "execution_count": 6,
   "id": "39dc1692",
   "metadata": {},
   "outputs": [
    {
     "name": "stdout",
     "output_type": "stream",
     "text": [
      "0.0 29.694736842105264\n"
     ]
    },
    {
     "data": {
      "image/png": "[encoded data removed]",
      "text/plain": [
       "<Figure size 360x216 with 1 Axes>"
      ]
     },
     "metadata": {
      "needs_background": "light"
     },
     "output_type": "display_data"
    }
   ],
   "source": [
    "av = [np.mean(GQgene[i]) for i in GQgene]\n",
    "print(min(av),max(av))\n",
    "plt.figure(figsize=(5,3))\n",
    "plt.hist(av,bins=30,color='darkgrey')\n",
    "plt.yscale('log')\n",
    "plt.xlabel('Average number of G-quadruplexes\\nin CDS of orthologs of protein-coding genes (n=15461)',fontsize=14)\n",
    "plt.ylabel('Number of \\nprotein-coding genes (log)', fontsize=14)\n",
    "plt.xticks(fontsize=12)\n",
    "plt.yticks(fontsize=12)\n",
    "plt.box(False)\n",
    "plt.tight_layout()\n",
    "plt.savefig('./FiguresPublication/CDS_GQ_AveragedCountPerGene.pdf',dpi=400)"
   ]
  },
  {
   "cell_type": "code",
   "execution_count": 21,
   "id": "0c100e71",
   "metadata": {},
   "outputs": [
    {
     "name": "stdout",
     "output_type": "stream",
     "text": [
      "[22.151041666666668, 29.694736842105264, 20.70408163265306, 20.025510204081634, 19.186528497409327, 26.00507614213198, 26.423280423280424, 22.436842105263157]\n"
     ]
    }
   ],
   "source": [
    "print([i for i in av if i > 18])"
   ]
  },
  {
   "cell_type": "code",
   "execution_count": 23,
   "id": "a664d277",
   "metadata": {},
   "outputs": [
    {
     "name": "stdout",
     "output_type": "stream",
     "text": [
      "['COL5A1', 'MEGF8', 'COL7A1', 'COL11A2', 'OBSCN', 'ZNF469', 'COL4A2', 'RYR1', 'COL27A1', 'COL5A3', 'IGFN1']\n"
     ]
    }
   ],
   "source": [
    "print([i for i in GQgene if np.mean(GQgene[i]) > 16])"
   ]
  },
  {
   "cell_type": "code",
   "execution_count": 18,
   "id": "bbfc73fe",
   "metadata": {},
   "outputs": [],
   "source": [
    "fl = 0\n",
    "GQ = {}\n",
    "with open('./GQuad/UTRs_Orthologs_GQuad') as file1:\n",
    "    for line in file1:\n",
    "        dat = line.strip().split('\\t')\n",
    "        if len(dat) > 1:\n",
    "            if dat[0] not in GQ:\n",
    "                GQ[dat[0]] = []\n",
    "            GQ[dat[0]].append(int(dat[2]))\n",
    "        else:\n",
    "            GQ[dat[0]] = []\n",
    "json.dump(GQ, open(\"./GQuad/UTRs_Orthologs_GQ.json\",\"w\")) \n",
    "GQgene = {}\n",
    "for item in GQ:\n",
    "    gene = item.split('|')[1].split(':')[0]\n",
    "    if gene not in GQgene:\n",
    "        GQgene[gene] = []\n",
    "    GQgene[gene].append(len(GQ[item]))\n",
    "json.dump(GQgene, open(\"./GQuad/UTRs_Orthologs_GQ_CountPerGene.json\",\"w\"))    "
   ]
  },
  {
   "cell_type": "code",
   "execution_count": 10,
   "id": "61c17c29",
   "metadata": {},
   "outputs": [
    {
     "name": "stdout",
     "output_type": "stream",
     "text": [
      "13847\n",
      "0.0 13.740932642487047\n"
     ]
    },
    {
     "data": {
      "image/png": "[encoded data removed]",
      "text/plain": [
       "<Figure size 360x216 with 1 Axes>"
      ]
     },
     "metadata": {
      "needs_background": "light"
     },
     "output_type": "display_data"
    }
   ],
   "source": [
    "GQgene = json.load(open(\"./GQuad/UTRs_Orthologs_GQ_CountPerGene.json\",\"r\"))\n",
    "print(len(GQgene))\n",
    "av = [np.mean(GQgene[i]) for i in GQgene]\n",
    "print(min(av),max(av))\n",
    "plt.figure(figsize=(5,3))\n",
    "plt.hist(av,bins=14,color='darkgrey')\n",
    "plt.yscale('log')\n",
    "\n",
    "plt.xlabel(\"Average number of G-quadruplexes in 3'-UTRs of \\northologs of protein-coding genes (n=13847)\",fontsize=14)\n",
    "plt.ylabel('Number of\\nprotein-coding genes (log)', fontsize=14)\n",
    "plt.xticks(fontsize=12)\n",
    "plt.yticks(fontsize=11.5)\n",
    "plt.box(False)\n",
    "plt.tight_layout()\n",
    "plt.savefig('./FiguresPublication/UTR_GQ_AveragedCountPerGene.pdf',dpi=400)"
   ]
  },
  {
   "cell_type": "code",
   "execution_count": 28,
   "id": "93d17f19",
   "metadata": {},
   "outputs": [
    {
     "name": "stdout",
     "output_type": "stream",
     "text": [
      "['KMT2D', 'NAT8L', 'MEF2D', 'CBX7', 'NACC2', 'ANKRD33', 'ANKRD52', 'VASH1', 'MLLT6', 'CASTOR2', 'HIC2', 'ELFN2', 'PCDH1', 'ZBTB16', 'IFFO2', 'THRA', 'CBX6', 'SDC3', 'ZBTB7A']\n"
     ]
    }
   ],
   "source": [
    "print([i for i in GQgene if np.mean(GQgene[i]) > 8])"
   ]
  },
  {
   "cell_type": "code",
   "execution_count": null,
   "id": "0917e3d2",
   "metadata": {},
   "outputs": [],
   "source": []
  }
 ],
 "metadata": {
  "kernelspec": {
   "display_name": "Python 3 (ipykernel)",
   "language": "python",
   "name": "python3"
  },
  "language_info": {
   "codemirror_mode": {
    "name": "ipython",
    "version": 3
   },
   "file_extension": ".py",
   "mimetype": "text/x-python",
   "name": "python",
   "nbconvert_exporter": "python",
   "pygments_lexer": "ipython3",
   "version": "3.7.0"
  }
 },
 "nbformat": 4,
 "nbformat_minor": 5
}
