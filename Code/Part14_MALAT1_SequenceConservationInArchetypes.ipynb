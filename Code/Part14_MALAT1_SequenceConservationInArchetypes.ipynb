{
 "cells": [
  {
   "cell_type": "code",
   "execution_count": 1,
   "id": "70416007",
   "metadata": {},
   "outputs": [],
   "source": [
    "import numpy as np\n",
    "import matplotlib.pyplot as plt"
   ]
  },
  {
   "cell_type": "code",
   "execution_count": 4,
   "id": "3982afaa",
   "metadata": {},
   "outputs": [],
   "source": [
    "msa = {}\n",
    "seq_file = './MSA/MALAT1/msa_MALAT1_gene_Archetypes.fasta'\n",
    "with open(seq_file) as file1:\n",
    "    fl = 0\n",
    "    for line in file1:\n",
    "        if line.startswith('>') and fl == 0:\n",
    "            l = []\n",
    "            name = line.rstrip().lstrip('>')\n",
    "            fl = 1\n",
    "        elif line.startswith('>') and fl == 1:\n",
    "            msa[name] = ''.join(l)\n",
    "            l = []\n",
    "            name = line.rstrip().lstrip('>')\n",
    "        elif not line.startswith('>'):\n",
    "            l.append(line.strip())\n",
    "    msa[name] = ''.join(l)"
   ]
  },
  {
   "cell_type": "code",
   "execution_count": 5,
   "id": "a16c840d",
   "metadata": {},
   "outputs": [
    {
     "name": "stdout",
     "output_type": "stream",
     "text": [
      "908\n"
     ]
    }
   ],
   "source": [
    "#Identify columns with identical nucleotides in all archetypes\n",
    "letters = ['a','g','c','t']\n",
    "columns = []\n",
    "msalen = len(msa['Human_MALAT1'])\n",
    "order = [i for i in msa]\n",
    "thr = 15\n",
    "\n",
    "for i in range(msalen):\n",
    "    l = [msa[item][i] for item in order]\n",
    "    if l.count('-') <= (len(order) - thr):\n",
    "        for letter in letters:\n",
    "            if l.count(letter) >= thr:\n",
    "                columns.append(i)\n",
    "print(len(columns))"
   ]
  },
  {
   "cell_type": "code",
   "execution_count": 6,
   "id": "1ac19ba7",
   "metadata": {},
   "outputs": [],
   "source": [
    "#From columns to ranges\n",
    "r = {}\n",
    "start = 0\n",
    "count = 1\n",
    "\n",
    "for i in columns:\n",
    "    if start == 0:\n",
    "        start = i\n",
    "        stopint = i\n",
    "    if i < (stopint + 10):\n",
    "        stopint += 1\n",
    "        stop = i\n",
    "    else:\n",
    "        r[count] = [start, stop]\n",
    "        count += 1\n",
    "        start = i\n",
    "        stopint = i"
   ]
  },
  {
   "cell_type": "code",
   "execution_count": 7,
   "id": "358a2309",
   "metadata": {},
   "outputs": [],
   "source": [
    "coor = {}\n",
    "for item in order:\n",
    "    coor[item] = {}\n",
    "    for frag in r:\n",
    "        start = len([i for i in list(msa[item])[:r[frag][0]] if i != '-'])\n",
    "        stop = len([i for i in list(msa[item])[:r[frag][1]] if i != '-'])\n",
    "        coor[item][frag] = [start,stop]"
   ]
  },
  {
   "cell_type": "code",
   "execution_count": 10,
   "id": "07c2ad02",
   "metadata": {},
   "outputs": [
    {
     "data": {
      "image/png": "[encoded data removed]",
      "text/plain": [
       "<Figure size 576x216 with 1 Axes>"
      ]
     },
     "metadata": {
      "needs_background": "light"
     },
     "output_type": "display_data"
    }
   ],
   "source": [
    "genome1 = 'Human_MALAT1'\n",
    "length = 7075\n",
    "c = 0\n",
    "idx = 1\n",
    "plt.figure(figsize=(8, 3))\n",
    "a = [0 for i in range(length)]\n",
    "for frag in coor[genome1]:\n",
    "    for i in range(coor[genome1][frag][0],coor[genome1][frag][1]):\n",
    "        a[i] = idx\n",
    "plt.plot([idx for i in range(length)],'s',color='dimgray',markersize=0.2)\n",
    "\n",
    "plt.plot(a, 's',markersize=3,color='rosybrown')\n",
    "\n",
    "plt.yticks([])\n",
    "plt.ylim([0.5,1.5])\n",
    "plt.box(False)\n",
    "plt.tight_layout()\n",
    "plt.savefig('./FiguresPublication/MALAT1_IdenticalRegions.png',dpi=400)\n"
   ]
  },
  {
   "cell_type": "code",
   "execution_count": null,
   "id": "b85b2598",
   "metadata": {},
   "outputs": [],
   "source": []
  }
 ],
 "metadata": {
  "kernelspec": {
   "display_name": "Python 3 (ipykernel)",
   "language": "python",
   "name": "python3"
  },
  "language_info": {
   "codemirror_mode": {
    "name": "ipython",
    "version": 3
   },
   "file_extension": ".py",
   "mimetype": "text/x-python",
   "name": "python",
   "nbconvert_exporter": "python",
   "pygments_lexer": "ipython3",
   "version": "3.7.0"
  }
 },
 "nbformat": 4,
 "nbformat_minor": 5
}
