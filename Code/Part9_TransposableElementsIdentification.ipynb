{
 "cells": [
  {
   "cell_type": "code",
   "execution_count": 1,
   "id": "111d6332",
   "metadata": {},
   "outputs": [],
   "source": [
    "import copy\n",
    "import json"
   ]
  },
  {
   "cell_type": "code",
   "execution_count": 1,
   "id": "dd6b04ac",
   "metadata": {},
   "outputs": [],
   "source": [
    "#Outside of Python, from command line:\n",
    "#BLAST+ software (https://ftp.ncbi.nlm.nih.gov/blast/executables/blast+/LATEST/)\n",
    "\n",
    "#makeblastdb -in ~/databases/DFAM/Dfam_embl.fasta -dbtype 'nucl'\n",
    "\n",
    "#blastn -query ./NEAT1_gene_all.fasta -db ~/databases/DFAM/Dfam_embl.fasta -task blastn /\n",
    "#-num_threads 30 -out ./NEAT1_on_Dfam_nodust.txt -max_target_seqs 100000 /\n",
    "#-outfmt \"6 qseqid sseqid length pident qstart qend sstart send evalue bitscore\" -max_hsps 10 /\n",
    "#-soft_masking false -dust no\n"
   ]
  },
  {
   "cell_type": "code",
   "execution_count": 5,
   "id": "9cec3814",
   "metadata": {},
   "outputs": [],
   "source": [
    "#Make a dictionary with sequences of NEAT1 orthologs\n",
    "seq = {}\n",
    "seq_file = './NEAT1_gene_all.fasta'\n",
    "with open(seq_file) as file1:\n",
    "    fl = 0\n",
    "    for line in file1:\n",
    "        if line.startswith('>') and fl == 0:\n",
    "            l = []\n",
    "            name = line.rstrip().lstrip('>')\n",
    "            fl = 1\n",
    "        elif line.startswith('>') and fl == 1:\n",
    "            seq[name] = ''.join(l)\n",
    "            l = []\n",
    "            name = line.rstrip().lstrip('>')\n",
    "        elif not line.startswith('>'):\n",
    "            l.append(line.strip())\n",
    "    seq[name] = ''.join(l)"
   ]
  },
  {
   "cell_type": "code",
   "execution_count": 2,
   "id": "de7d8224",
   "metadata": {},
   "outputs": [],
   "source": [
    "# Dictionary of genomes' IDs in which NEAT1 was identified  \n",
    "neat1 = {}\n",
    "with open('Metadata') as file1:\n",
    "    for line in file1:\n",
    "        dat = line.strip().split('\\t')\n",
    "        if not line.startswith('#') and dat[3] == '1':\n",
    "            dat = line.strip().split('\\t')\n",
    "            neat1[dat[0]] = {}\n"
   ]
  },
  {
   "cell_type": "markdown",
   "id": "4a4e06f4",
   "metadata": {},
   "source": [
    "Parsing results of blast search against of Dfam database with the 80-80-80 rule (80 percent coverage of a TE, over at least 80bp and 80% of nucleotide identity)"
   ]
  },
  {
   "cell_type": "code",
   "execution_count": 7,
   "id": "60b711e1",
   "metadata": {},
   "outputs": [],
   "source": [
    "out = open('./NEAT1_dfam_blast_matches_80-80-80','w')\n",
    "out_seq = open('./NEAT1_all_matched_TE.fasta','w')\n",
    "d = {}\n",
    "with open('./NEAT1_on_Dfam.txt') as file1:\n",
    "    for line in file1:\n",
    "        dat = line.strip().split('\\t')\n",
    "        if int(dat[2]) > 80 and float(dat[3]) > 80:\n",
    "            loclength = int(dat[1].split('_')[-1])\n",
    "            if (int(dat[2]) / loclength) > 0.8:\n",
    "                out.write(line)\n",
    "                if dat[0] not in d:\n",
    "                    d[dat[0]] = {}\n",
    "                d[dat[0]][dat[1]] = [loclength,int(dat[4]),int(dat[5])]\n",
    "                out_seq.write('>' + dat[0] + '|' + dat[1] + '|' + dat[4] + '-' + dat[5] + '\\n')\n",
    "                out_seq.write(seq[dat[0]][int(dat[4]):int(dat[5])].upper() + '\\n')\n",
    "                \n",
    "out.close()\n",
    "out_seq.close()"
   ]
  },
  {
   "cell_type": "code",
   "execution_count": 12,
   "id": "ae8d1010",
   "metadata": {},
   "outputs": [],
   "source": [
    "# Make a subset of TEs annotations which are non-overlapped (20bp maximum as an overlap between \n",
    "#two annotations is allowed) \n",
    "ran_dd = {}\n",
    "out = open('./TE/NEAT1_non_overlaped_TE.fasta','w')\n",
    "out_stat = open('./TE/Percentage_of_NEAT1_in_repeats','w')\n",
    "out_stat.write('#Organism\\tCoverage_TE\\tCoverage_self_alignment\\n')\n",
    "for genome in neat1:\n",
    "    if genome in d:\n",
    "        x = sorted(d[genome].keys(), key=lambda kv: d[genome][kv][0],reverse = True)\n",
    "        offset = 20\n",
    "        ran = [0 for i in range(length[genome])]\n",
    "        ran_d = {}\n",
    "        for TE in x:\n",
    "            if ran:\n",
    "                start = d[genome][TE][1]\n",
    "                stop = d[genome][TE][2]\n",
    "                fl = 0\n",
    "                s = sum(ran[start:stop])\n",
    "                if s < offset:\n",
    "                    for i in range(start,stop):\n",
    "                        ran[i] = 1\n",
    "                    ran_d[TE] = d[genome][TE]\n",
    "\n",
    "            else:\n",
    "                for i in range(d[genome][TE][1],d[genome][TE][2]):\n",
    "                    ran[i] = 1\n",
    "                ran_d[TE] = d[genome][TE]\n",
    "        for item in ran_d:\n",
    "            out.write('>' + genome + '|' + item + '|' + str(ran_d[item][1]) + '-' + str(ran_d[item][2]) + '\\n')\n",
    "            out.write(seq[genome][ran_d[item][1]:ran_d[item][2]].upper() + '\\n')\n",
    "        ran_dd[genome] = copy.deepcopy(ran_d)\n",
    "\n",
    "        out_stat.write('\\t'.join([genome, str(round((sum(ran)/length[genome])*100,2)),str(round((sum(self_align[genome])/length[genome])*100,2))]) + '\\n')\n",
    "out.close()\n",
    "out_stat.close()"
   ]
  },
  {
   "cell_type": "code",
   "execution_count": 13,
   "id": "29a6bd8d",
   "metadata": {},
   "outputs": [],
   "source": [
    "json.dump(ran_dd, open(\"./TE/NEAT1_non_overlapping_TE.json\",\"w\"))\n",
    "json.dump(d, open(\"./TE/NEAT1_all_hits_TE.json\",\"w\"))"
   ]
  },
  {
   "cell_type": "code",
   "execution_count": null,
   "id": "d4996d77",
   "metadata": {},
   "outputs": [],
   "source": []
  }
 ],
 "metadata": {
  "kernelspec": {
   "display_name": "Python 3 (ipykernel)",
   "language": "python",
   "name": "python3"
  },
  "language_info": {
   "codemirror_mode": {
    "name": "ipython",
    "version": 3
   },
   "file_extension": ".py",
   "mimetype": "text/x-python",
   "name": "python",
   "nbconvert_exporter": "python",
   "pygments_lexer": "ipython3",
   "version": "3.7.0"
  }
 },
 "nbformat": 4,
 "nbformat_minor": 5
}
