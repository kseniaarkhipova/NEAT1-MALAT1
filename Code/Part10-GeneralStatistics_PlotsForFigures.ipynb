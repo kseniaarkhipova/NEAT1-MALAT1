{
 "cells": [
  {
   "cell_type": "code",
   "execution_count": 53,
   "id": "39954f94",
   "metadata": {},
   "outputs": [],
   "source": [
    "import matplotlib.pyplot as plt\n",
    "import numpy as np\n",
    "import re\n",
    "import json\n",
    "from scipy import stats\n",
    "from matplotlib import rc\n",
    "rc('font',**{'family':'sans-serif','sans-serif':'Arial'})\n",
    "rc('text',usetex=True)\n",
    "plt.rcParams['mathtext.fontset'] = 'custom'\n",
    "plt.rcParams['mathtext.it'] = 'Arial:italic'\n",
    "plt.rcParams['mathtext.rm'] = 'Arial'"
   ]
  },
  {
   "cell_type": "code",
   "execution_count": 3,
   "id": "60adef68",
   "metadata": {},
   "outputs": [],
   "source": [
    "tax_order = {}\n",
    "tax_fam = {}\n",
    "common = {}\n",
    "latin = {}\n",
    "\n",
    "neat = {}\n",
    "malat = {}\n",
    "length = {}\n",
    "lengthM = {}\n",
    "with open('Metadata') as file1:\n",
    "    for line in file1:\n",
    "        dat = line.strip().split('\\t')\n",
    "        if not line.startswith('#'):\n",
    "            # Names and taxonomic data\n",
    "            common[dat[0]] = dat[2].capitalize()\n",
    "            latin[dat[0]] = dat[1]\n",
    "            tax_order[dat[0]] = dat[17]\n",
    "            tax_fam[dat[0]] = dat[18]\n",
    "            \n",
    "            \n",
    "            # If predicted orthologs\n",
    "            if line.startswith('GC'):\n",
    "                # If NEAT1 is predicted\n",
    "                if dat[3] == '1':\n",
    "                    neat[dat[0]] = {'gaps':int(dat[9]),'start':int(dat[22]),\n",
    "                                 'stop':int(dat[23]),'contig':dat[21],'dir':dat[24]}\n",
    "                    if dat[7]:\n",
    "                        neat[dat[0]]['PAS'] = int(dat[7])\n",
    "                    if dat[8]:\n",
    "                        neat[dat[0]]['AltPAS'] = int(dat[8])\n",
    "                    length[dat[0]] = int(dat[5]) \n",
    "                # If MALAT1 is predicted\n",
    "                if dat[4] == '1':\n",
    "                    malat[dat[0]] = {'gaps':int(dat[11]),'start':int(dat[26]),\n",
    "                                     'stop':int(dat[27]),'contig':dat[25],'dir':dat[28]}\n",
    "                    lengthM[dat[0]] = int(dat[6])\n",
    "            # Alternatively Reference orthologs\n",
    "            else:\n",
    "                if dat[3] == '1':\n",
    "                    length[dat[0]] = int(dat[5])\n",
    "                    neat[dat[0]] = {'PAS':int(dat[7]),'gaps':0}\n",
    "                    if dat[8]:\n",
    "                        neat[dat[0]]['AltPAS'] = int(dat[8])\n",
    "                elif dat[4] == '1':\n",
    "                    lengthM[dat[0]] = int(dat[6])\n",
    "                    malat[dat[0]] = {'gaps':0}\n",
    "\n"
   ]
  },
  {
   "cell_type": "code",
   "execution_count": 22,
   "id": "5562cd5d",
   "metadata": {},
   "outputs": [
    {
     "name": "stdout",
     "output_type": "stream",
     "text": [
      "The dataset contains 506 of NEAT1 orthologs and 469 of MALAT1\n",
      "Number of genomes in the dataset is 547\n",
      "Number of NEAT1 orthologs without gaps in assembly is 392, 77.47%\n",
      "Number of MALAT1 orthologs without gaps in assembly is 449, 95.74%\n"
     ]
    }
   ],
   "source": [
    "#Dataset overview\n",
    "print(f'The dataset contains {len(neat)} of NEAT1 orthologs and {len(malat)} of MALAT1')\n",
    "print(f'Number of genomes in the dataset is {len(set([i for i in neat] + [i for  i in malat]))}')\n",
    "\n",
    "a = len([i for i in neat if neat[i]['gaps'] == 0])\n",
    "print(f'Number of NEAT1 orthologs without gaps in assembly is {a}, {round(a/len(neat)*100,2)}%')\n",
    "a = len([i for i in malat if malat[i]['gaps'] == 0])\n",
    "print(f'Number of MALAT1 orthologs without gaps in assembly is {a}, {round(a/len(malat)*100,2)}%')"
   ]
  },
  {
   "cell_type": "markdown",
   "id": "23706b12",
   "metadata": {},
   "source": [
    "### Plot results of identification of orthologs in the dataset, plotted per order"
   ]
  },
  {
   "cell_type": "code",
   "execution_count": 46,
   "id": "a8f8bf4f",
   "metadata": {},
   "outputs": [],
   "source": [
    "# List of orders per dataset ortholog\n",
    "NEATSetOrders = [tax_order[i] for i in latin if i in neat]\n",
    "#Dictionary with number of orders in NEAT1 orthologs subset\n",
    "CountNSOrd = {}\n",
    "for item in NEATSetOrders:\n",
    "    if item not in CountNSOrd:\n",
    "        CountNSOrd[item] = 0\n",
    "    CountNSOrd[item] += 1\n",
    "    \n",
    "#Dictionary with number of orders in MALAT1 orthologs subset    \n",
    "MALATSetOrders = [tax_order[i] for i in latin if i in malat]\n",
    "CountMSOrd = {}\n",
    "for item in MALATSetOrders:\n",
    "    if item not in CountMSOrd:\n",
    "        CountMSOrd[item] = 0\n",
    "    CountMSOrd[item] += 1\n",
    "    \n",
    "# Dictionary with counted orders for the whole dataset\n",
    "CountOrdAll = {}\n",
    "for item in latin:\n",
    "    # Human and mouse NEAT1 and MALAT1 have individual rows in Metadata,\n",
    "    # need to exclude two of them to do not have overrepresentation\n",
    "    if item not in ['Mouse_MALAT1','Human_MALAT1']:\n",
    "        if tax_order[item] not in CountOrdAll:\n",
    "            CountOrdAll[tax_order[item]] = 0\n",
    "        CountOrdAll[tax_order[item]] += 1\n"
   ]
  },
  {
   "cell_type": "code",
   "execution_count": 56,
   "id": "5a9cd1f5",
   "metadata": {},
   "outputs": [
    {
     "data": {
      "image/png": "[encoded data removed]",
      "text/plain": [
       "<Figure size 288x144 with 1 Axes>"
      ]
     },
     "metadata": {
      "needs_background": "light"
     },
     "output_type": "display_data"
    },
    {
     "data": {
      "image/png": "[encoded data removed]",
      "text/plain": [
       "<Figure size 309.6x360 with 1 Axes>"
      ]
     },
     "metadata": {
      "needs_background": "light"
     },
     "output_type": "display_data"
    }
   ],
   "source": [
    "# Plot for NEAT1 orthologs\n",
    "plt.figure(figsize=(4, 2))\n",
    "order = sorted(CountOrdAll.keys(), key=lambda kv: CountOrdAll[kv],reverse=True)[:6]\n",
    "\n",
    "pos = [i for i in range(len(order))][::-1]\n",
    "val = [CountOrdAll[i] for i in order]\n",
    "\n",
    "val2 = [CountNSOrd[i] if i in CountNSOrd else CountOrdAll[i] for i in order]\n",
    "\n",
    "\n",
    "plt.barh(pos,val,color='lightsalmon')\n",
    "plt.barh(pos,val2,color='silver')\n",
    "plt.xticks(fontsize=13)\n",
    "plt.yticks(pos,order,rotation=0,fontsize=15)\n",
    "plt.box(False)\n",
    "\n",
    "plt.xlabel('Number of orthologs',fontsize=15)\n",
    "plt.tight_layout()\n",
    "plt.savefig('./FiguresPublication/NEAT1CountedOrdersInDataset_Part1.pdf',dpi=300)\n",
    "\n",
    "plt.figure(figsize=(4.3, 5))\n",
    "order = sorted(CountOrdAll.keys(), key=lambda kv: CountOrdAll[kv],reverse=True)[6:]\n",
    "\n",
    "pos = [i for i in range(len(order))][::-1]\n",
    "val = [CountOrdAll[i] for i in order]\n",
    "\n",
    "val2 = [CountNSOrd[i] if i in CountNSOrd else CountOrdAll[i] for i in order]\n",
    "\n",
    "plt.barh(pos,val,color='lightsalmon',label=r\"$\\mathit{ NEAT1 }$\" + 'ortholog \\nwas not identified')\n",
    "plt.barh(pos,val2,color='silver')\n",
    "plt.xlabel('Number of orthologs',fontsize=15)\n",
    "plt.xticks(fontsize=13)\n",
    "plt.yticks(pos,order,rotation=0,fontsize=15)\n",
    "plt.legend(bbox_to_anchor=(1, 0.5),frameon=False,fontsize=13)\n",
    "\n",
    "plt.box(False)\n",
    "plt.tight_layout()\n",
    "plt.tight_layout()\n",
    "plt.savefig('./FiguresPublication/NEAT1CountedOrdersInDataset_Part2.pdf',bbox_inches='tight',dpi=300)"
   ]
  },
  {
   "cell_type": "code",
   "execution_count": 57,
   "id": "19771bfa",
   "metadata": {},
   "outputs": [
    {
     "data": {
      "image/png": "[encoded data removed]",
      "text/plain": [
       "<Figure size 288x144 with 1 Axes>"
      ]
     },
     "metadata": {
      "needs_background": "light"
     },
     "output_type": "display_data"
    },
    {
     "data": {
      "image/png": "[encoded data removed]",
      "text/plain": [
       "<Figure size 309.6x360 with 1 Axes>"
      ]
     },
     "metadata": {
      "needs_background": "light"
     },
     "output_type": "display_data"
    }
   ],
   "source": [
    "plt.figure(figsize=(4, 2))\n",
    "order = sorted(CountOrdAll.keys(), key=lambda kv: CountOrdAll[kv],reverse=True)[:6]\n",
    "\n",
    "pos = [i for i in range(len(order))][::-1]\n",
    "val = [CountOrdAll[i] for i in order]\n",
    "\n",
    "val2 = [CountMSOrd[i] if i in CountMSOrd else CountOrdAll[i] for i in order]\n",
    "\n",
    "plt.barh(pos,val,color='lightsalmon',label='Missing')\n",
    "plt.barh(pos,val2,color='silver')\n",
    "plt.xticks(fontsize=13)\n",
    "plt.yticks(pos,order,rotation=0,fontsize=15)\n",
    "plt.box(False)\n",
    "\n",
    "plt.xlabel('Number of orthologs',fontsize=15)\n",
    "plt.tight_layout()\n",
    "plt.savefig('./FiguresPublication/MALAT1CountedOrdersInDataset_Part1.pdf',dpi=300)\n",
    "\n",
    "plt.figure(figsize=(4.3, 5))\n",
    "order = sorted(CountOrdAll.keys(), key=lambda kv: CountOrdAll[kv],reverse=True)[6:]\n",
    "\n",
    "pos = [i for i in range(len(order))][::-1]\n",
    "val = [CountOrdAll[i] for i in order]\n",
    "\n",
    "val2 = [CountMSOrd[i] if i in CountMSOrd else CountOrdAll[i] for i in order]\n",
    "\n",
    "plt.barh(pos,val,color='lightsalmon',label=r\"$\\mathit{ NEAT1 }$\" + 'ortholog \\nwas not identified')\n",
    "plt.barh(pos,val2,color='silver')\n",
    "plt.xlabel('Number of orthologs',fontsize=15)\n",
    "plt.xticks(fontsize=13)\n",
    "plt.yticks(pos,order,rotation=0,fontsize=15)\n",
    "plt.legend(bbox_to_anchor=(1, 0.5),frameon=False,fontsize=13)\n",
    "\n",
    "plt.box(False)\n",
    "plt.tight_layout()\n",
    "plt.savefig('./FiguresPublication/MALAT1CountedOrdersInDataset_Part2.pdf',dpi=300)"
   ]
  },
  {
   "cell_type": "code",
   "execution_count": 27,
   "id": "0c868c03",
   "metadata": {},
   "outputs": [
    {
     "name": "stdout",
     "output_type": "stream",
     "text": [
      "95 6652.989473684211 176.29702775276684\n"
     ]
    }
   ],
   "source": [
    "a = [lengthM[i] for i in lengthM if tax_order[i]=='Rodentia']\n",
    "print(len(a),np.mean(a),np.std(a))"
   ]
  },
  {
   "cell_type": "markdown",
   "id": "bfae8855",
   "metadata": {},
   "source": [
    "### Correlation of orthologs length with the phylogenetic distance from echidna"
   ]
  },
  {
   "cell_type": "code",
   "execution_count": 12,
   "id": "46b23b15",
   "metadata": {},
   "outputs": [
    {
     "name": "stdout",
     "output_type": "stream",
     "text": [
      "Spearmans correlation between NEAT1 orthologs length and position in phylogenetic tree: SpearmanrResult(correlation=-0.06168339306553171, pvalue=0.199131327243498)\n",
      "Spearmans correlation between MALAT1 orthologs length and position in phylogenetic tree: SpearmanrResult(correlation=-0.07237566336005741, pvalue=0.16246594017183325)\n"
     ]
    }
   ],
   "source": [
    "\n",
    "phylodist = {}\n",
    "order = []\n",
    "with open('phylodist_to_echidna') as file1:\n",
    "    for line in file1:\n",
    "        dat = line.strip().split('\\t')\n",
    "        name = dat[1]\n",
    "        order.append(name)\n",
    "        phylodist[name] = float(dat[4])\n",
    "\n",
    "dist = [phylodist[i] for i in order if i in neat]\n",
    "lengths = [length[i] for i in order if i in neat]\n",
    "print(f'Spearmans correlation between NEAT1 orthologs' + \n",
    "      f' length and position in phylogenetic tree: {stats.spearmanr(lengths,dist)}')\n",
    "\n",
    "dist = [phylodist[i] for i in order if i in malat]\n",
    "lengths = [length[i] for i in order if i in malat]\n",
    "print(f'Spearmans correlation between MALAT1 orthologs length' +\n",
    "      f' and position in phylogenetic tree: {stats.spearmanr(lengths,dist)}')\n",
    "\n"
   ]
  },
  {
   "cell_type": "markdown",
   "id": "bebbc912",
   "metadata": {},
   "source": [
    "### Plot Averaged ANI in different groups of orthologs"
   ]
  },
  {
   "cell_type": "code",
   "execution_count": 64,
   "id": "0f3c08ba",
   "metadata": {},
   "outputs": [
    {
     "data": {
      "image/png": "[encoded data removed]",
      "text/plain": [
       "<Figure size 360x144 with 1 Axes>"
      ]
     },
     "metadata": {
      "needs_background": "light"
     },
     "output_type": "display_data"
    }
   ],
   "source": [
    "plt.figure(figsize=(5,2))\n",
    "\n",
    "pos = [0,1,2]\n",
    "val = [30.80296205449804,44.283624798710086,27.842945543280454]\n",
    "err = [25.036495614637843,24.264148642811897,25.53719921898509]\n",
    "plt.bar(pos,val,width=0.9,yerr=err, color='#fa766f',error_kw={'linewidth':0.5})\n",
    "\n",
    "pos = [3,4]\n",
    "val = [11.873771040991315,1.7252733135173848]\n",
    "err = [12.133294510564587,2.7501362821689472]\n",
    "plt.bar(pos,val,width=0.9,yerr=err, color='#ffa29e',error_kw={'linewidth':0.5})\n",
    "\n",
    "pos = [5.5]\n",
    "val = [68.49404314333749]\n",
    "err = [16.115505903876805]\n",
    "plt.bar(pos,val,width=0.9,yerr=err, color='#658455',error_kw={'linewidth':0.5})\n",
    "\n",
    "pos = [6.5]\n",
    "val = [41.79543673706534]\n",
    "err = [18.168628174769147]\n",
    "plt.bar(pos,val,width=0.9,yerr=err, color='#b6cfa8',error_kw={'linewidth':0.5})\n",
    "\n",
    "pos = [8]\n",
    "val = [79.40294462579602]\n",
    "err = [11.613151078841568]\n",
    "plt.bar(pos,val,width=0.9,yerr=err, color='#516fa9',error_kw={'linewidth':0.5})\n",
    "\n",
    "pos = [9]\n",
    "val = [71.3130783644836]\n",
    "err = [14.229517316498551]\n",
    "plt.bar(pos,val,width=0.9,yerr=err, color='#c5d7ea',error_kw={'linewidth':0.5})\n",
    "\n",
    "\n",
    "pos = [10.5]\n",
    "val = [44.27796549678823]\n",
    "err = [17.78501000420325]\n",
    "plt.bar(pos,val,width=0.9,yerr=err, color='#eac281',error_kw={'linewidth':0.5})\n",
    "\n",
    "pos = [11.5]\n",
    "val = [26.7123362629307]\n",
    "err = [24.78559235084245]\n",
    "plt.bar(pos,val,width=0.9,yerr=err, color='#eed1a8',error_kw={'linewidth':0.5})\n",
    "\n",
    "r\"$\\mathit{ NEAT1 }$\" + 'ortholog \\nwas not identified'\n",
    "plt.ylabel('Averaged ANI',fontsize=10)\n",
    "plt.box(False)\n",
    "plt.yticks([0,25,50,75],[0,25,50,75],fontsize=8)\n",
    "plt.xticks([0,1,2,3,4,5.5,6.5,8,9,10.5,11.5],\n",
    "           [r\"$\\mathit{NEAT1Long}$\",r\"$\\mathit{NEAT1Short}$\",r\"$\\mathit{NEAT1\\ 3.5kb+}$\",\n",
    "            'Archetypes\\n' + r\"$\\mathit{NEAT1Short}$\",'Archetypes\\n' + r\"$\\mathit{NEAT1\\ 3.5kb+}$\",r\"$\\mathit{MALAT1}$\",\n",
    "                'Archetypes\\n' + r\"$\\mathit{MALAT1}$\",\n",
    "               'CDS','Archetypes\\nCDS',\"3'-UTR\",\"Archetypes\\n3'-UTR\"],rotation=45,\n",
    "          fontsize=8)\n",
    "plt.tight_layout()\n",
    "plt.savefig('./FiguresPublication/AveragedANI.pdf',dpi=300)"
   ]
  },
  {
   "cell_type": "markdown",
   "id": "1f1adef6",
   "metadata": {},
   "source": [
    "### Length distribution"
   ]
  },
  {
   "cell_type": "code",
   "execution_count": 62,
   "id": "f231da41",
   "metadata": {},
   "outputs": [],
   "source": [
    "Mars=['MONOTREMATA','DIDELPHIMORPHIA','MICROBIOTHERIA','DIPROTODONTIA','DASYUROMORPHIA']\n",
    "LengthNEAT1Long = [length[i] for i in neat if neat[i]['gaps'] == 0]\n",
    "LengthNEAT1LongMars = [length[i] for i in neat if tax_order[i].upper() in Mars and neat[i]['gaps'] == 0]\n",
    "LengthNEAT1Short = [neat[i]['PAS'] for i in neat if 'PAS' in neat[i]]\n",
    "LengthMALAT1 = [lengthM[i] for i in lengthM if malat[i]['gaps'] == 0]\n",
    "LengthMALAT1Mars = [lengthM[i] for i in lengthM if tax_order[i].upper() in Mars]"
   ]
  },
  {
   "cell_type": "code",
   "execution_count": 63,
   "id": "cd538bca",
   "metadata": {},
   "outputs": [
    {
     "data": {
      "image/png": "[encoded data removed]",
      "text/plain": [
       "<Figure size 324x216 with 1 Axes>"
      ]
     },
     "metadata": {
      "needs_background": "light"
     },
     "output_type": "display_data"
    }
   ],
   "source": [
    "plt.figure(figsize=(4.5,3))\n",
    "pos = [0,1,2]\n",
    "val = [np.mean(LengthNEAT1Long),np.mean(LengthNEAT1LongMars),np.mean(LengthNEAT1Short)]\n",
    "err = [np.std(LengthNEAT1Long),np.std(LengthNEAT1LongMars),np.std(LengthNEAT1Short)]\n",
    "\n",
    "plt.bar(pos,val,yerr=err, color='#fa766f',error_kw={'linewidth':1})\n",
    "pos = [3,4]\n",
    "\n",
    "val = [np.mean(LengthMALAT1),np.mean(LengthMALAT1Mars)]\n",
    "err = [np.std(LengthMALAT1),np.std(LengthMALAT1Mars)]\n",
    "\n",
    "plt.bar(pos,val,yerr=err, color='#658455',error_kw={'linewidth':1})\n",
    "\n",
    "plt.ylabel('Gene length, kb',fontsize=12)\n",
    "plt.box(False)\n",
    "plt.yticks([10000,20000,30000], ['10','20','30'],fontsize=12)\n",
    "plt.xticks([i for i in range(5)],[r\"$\\mathit{NEAT1Long}$\",r\"$\\mathit{NEAT1Long}$\" + '\\nMarsupials',\n",
    "                                  r\"$\\mathit{NEAT1Short}$\",r\"$\\mathit{MALAT1}$\",r\"$\\mathit{MALAT1}$\" + '\\nMarsupials'],\n",
    "          fontsize=12, rotation=45)\n",
    "plt.tight_layout()\n",
    "plt.savefig('./FiguresPublication/LengthVariation.pdf',dpi=400)"
   ]
  },
  {
   "cell_type": "markdown",
   "id": "87b0b0af",
   "metadata": {},
   "source": [
    "#### Longest and shortest NEAT1 orthologs"
   ]
  },
  {
   "cell_type": "code",
   "execution_count": 46,
   "id": "4cd69920",
   "metadata": {},
   "outputs": [
    {
     "name": "stdout",
     "output_type": "stream",
     "text": [
      "36456\n",
      "14505\n",
      "[(\"Leadbeater's possum\", 'Gymnobelideus leadbeateri')]\n",
      "[('Plateau pika', 'Ochotona curzoniae')]\n"
     ]
    }
   ],
   "source": [
    "l = [length[item] for item in neat if neat[item]['gaps'] == 0]\n",
    "print(max(l))\n",
    "print(min(l))\n",
    "print([(common[i],latin[i]) for i in neat if length[i] == max(l)])\n",
    "print([(common[i],latin[i]) for i in neat if length[i] == min(l)])\n"
   ]
  },
  {
   "cell_type": "markdown",
   "id": "05ae4ec5",
   "metadata": {},
   "source": [
    "### Distance between NEAT1 and MALAT1 orthologs in mammals"
   ]
  },
  {
   "cell_type": "code",
   "execution_count": 47,
   "id": "3344a4f9",
   "metadata": {},
   "outputs": [
    {
     "name": "stdout",
     "output_type": "stream",
     "text": [
      "428 395 92.28971962616822\n"
     ]
    }
   ],
   "source": [
    "distance = []\n",
    "count = 0\n",
    "for item in latin:\n",
    "    if item in neat and item in malat:\n",
    "        count += 1\n",
    "        if neat[item]['contig'] == malat[item]['contig'] and neat[item]['dir'] == malat[item]['dir']:\n",
    "            if neat[item]['dir'] == 'plus':\n",
    "                a = malat[item]['start'] - neat[item]['stop']\n",
    "            elif neat[item]['dir'] == 'minus':\n",
    "                a = neat[item]['start'] - malat[item]['stop']\n",
    "            distance.append(a)\n",
    "            if neat[item]['dir'] != malat[item]['dir']:\n",
    "                print(item)\n",
    "print(count,len(distance),len(distance)/count*100)        "
   ]
  },
  {
   "cell_type": "code",
   "execution_count": 65,
   "id": "29b5da4a",
   "metadata": {
    "scrolled": true
   },
   "outputs": [
    {
     "data": {
      "image/png": "[encoded data removed]",
      "text/plain": [
       "<Figure size 432x288 with 1 Axes>"
      ]
     },
     "metadata": {
      "needs_background": "light"
     },
     "output_type": "display_data"
    }
   ],
   "source": [
    "pos = [i for i in range(len(distance))]\n",
    "val = sorted(distance)\n",
    "t = 'Distance variation:\\n\\n' + str(round(np.mean(val),2)) + 'bp +/- ' + str(round(np.std(val),2)) + 'bp'\n",
    "plt.barh(pos,val,color='steelblue')\n",
    "#plt.xlim([0,11400])\n",
    "plt.text(50000, 25, t,fontsize=12)\n",
    "plt.xlabel('Distance, kb',fontsize=12)\n",
    "plt.ylabel('Species',fontsize=12)\n",
    "plt.xticks(range(0,90000,10000), [str(i) for i in range(0,90,10)], fontsize=12)\n",
    "plt.box(False)\n",
    "plt.yticks([])\n",
    "plt.savefig('./FiguresPublication/DistanceNEAT1-MALAT1.pdf',dpi=300)"
   ]
  },
  {
   "cell_type": "markdown",
   "id": "e90a4321",
   "metadata": {},
   "source": [
    "### Length distribution per order"
   ]
  },
  {
   "cell_type": "code",
   "execution_count": 4,
   "id": "4ba4267c",
   "metadata": {},
   "outputs": [
    {
     "name": "stdout",
     "output_type": "stream",
     "text": [
      "['Monotremata', 'Didelphimorphia', 'Dasyuromorphia', 'Diprotodontia', 'Microbiotheria', 'Macroscelidea', 'Afrosoricida', 'Tubulidentata', 'Sirenia', 'Proboscidea', 'Hyracoidea', 'Pilosa', 'Cingulata', 'Eulipotyphla', 'Perissodactyla', 'Pholidota', 'Carnivora', 'Artiodactyla', 'Chiroptera', 'Primates', 'Dermoptera', 'Scandentia', 'Lagomorpha', 'Rodentia']\n"
     ]
    }
   ],
   "source": [
    "#Get the order of orders along phylogenetic tree\n",
    "\n",
    "orders_rev = []\n",
    "with open('./PhyloTree/leaves_order_one_per_order') as file1:\n",
    "    for line in file1:\n",
    "        dat = line.strip().split('\\t')\n",
    "        order = dat[0].split('_')[-1].capitalize()\n",
    "        if 'artiodactyla' in order:\n",
    "            orders_rev.append('Artiodactyla')\n",
    "        else:\n",
    "            orders_rev.append(order)\n",
    "orders = orders_rev[::-1]\n",
    "print(orders)"
   ]
  },
  {
   "cell_type": "code",
   "execution_count": 62,
   "id": "81b7053c",
   "metadata": {
    "scrolled": true
   },
   "outputs": [
    {
     "data": {
      "image/png": "[encoded data removed]",
      "text/plain": [
       "<Figure size 288x360 with 1 Axes>"
      ]
     },
     "metadata": {
      "needs_background": "light"
     },
     "output_type": "display_data"
    },
    {
     "data": {
      "image/png": "[encoded data removed]",
      "text/plain": [
       "<Figure size 288x360 with 1 Axes>"
      ]
     },
     "metadata": {
      "needs_background": "light"
     },
     "output_type": "display_data"
    }
   ],
   "source": [
    "val = []\n",
    "err = []\n",
    "used = {}\n",
    "for item in orders:\n",
    "    av = []\n",
    "    for gene in neat:\n",
    "        if tax_order[gene] == item and neat[gene]['gaps'] == 0:\n",
    "            av.append(length[gene])\n",
    "    if av:\n",
    "        used[item] = len(av)\n",
    "        val.append(np.mean(av))\n",
    "        err.append(np.std(av))\n",
    "    else:\n",
    "        val.append(0)\n",
    "        err.append(0)\n",
    "        \n",
    "            \n",
    "plt.figure(figsize=(4, 5))\n",
    "\n",
    "pos = [i for i in range(len(orders))][::-1]\n",
    "plt.barh(pos,val,xerr=err, color='silver')\n",
    "for i in pos:\n",
    "    name = orders[::-1][i]\n",
    "    if name in used:\n",
    "        plt.text(2000,i-0.3,used[name],fontsize=10)\n",
    "plt.xlabel('Average ortholog length, kb',fontsize=13)\n",
    "plt.xticks(range(0,40000,5000), [str(i) for i in range(0,40,5)])\n",
    "\n",
    "plt.yticks(pos,orders,rotation=0,fontsize=13)\n",
    "plt.box(False)\n",
    "plt.tight_layout()\n",
    "plt.savefig('./FiguresPublication/NEAT1LengthPerOrder.pdf',dpi=300)\n",
    "\n",
    "val = []\n",
    "err = []\n",
    "used = {}\n",
    "for item in orders:\n",
    "    av = []\n",
    "    for gene in malat:\n",
    "        if tax_order[gene] == item and malat[gene]['gaps'] == 0:\n",
    "            av.append(lengthM[gene])\n",
    "    if av:\n",
    "        used[item] = len(av)\n",
    "        val.append(np.mean(av))\n",
    "        err.append(np.std(av))\n",
    "    else:\n",
    "        val.append(0)\n",
    "        err.append(0)\n",
    "        \n",
    "            \n",
    "plt.figure(figsize=(4, 5))\n",
    "pos = [i for i in range(len(orders))][::-1]\n",
    "\n",
    "plt.barh(pos,val,xerr=err, color='silver')\n",
    "for i in pos:\n",
    "    name = orders[::-1][i]\n",
    "    if name in used:\n",
    "        plt.text(500,i-0.3,used[name],fontsize=10)\n",
    "plt.xlabel('Average ortholog length, kb',fontsize=13)\n",
    "plt.xticks(range(0,9000,1000), [str(i) for i in range(0,9)])\n",
    "plt.yticks(pos,orders,rotation=0,fontsize=12)\n",
    "plt.box(False)\n",
    "plt.tight_layout()\n",
    "plt.savefig('./FiguresPublication/MALAT1LengthPerOrder.pdf',dpi=300)"
   ]
  },
  {
   "cell_type": "markdown",
   "id": "0d0cd573",
   "metadata": {},
   "source": [
    "### Statistics of TEs"
   ]
  },
  {
   "cell_type": "code",
   "execution_count": 66,
   "id": "cfcc9f63",
   "metadata": {},
   "outputs": [],
   "source": [
    "TE = json.load(open(\"./TE/NEAT1_non_overlapping_TE.json\",\"r\"))"
   ]
  },
  {
   "cell_type": "code",
   "execution_count": 67,
   "id": "3391936e",
   "metadata": {},
   "outputs": [
    {
     "name": "stderr",
     "output_type": "stream",
     "text": [
      "/home/ksenia/anaconda3/envs/sc/lib/python3.7/site-packages/ipykernel_launcher.py:20: RuntimeWarning: More than 20 figures have been opened. Figures created through the pyplot interface (`matplotlib.pyplot.figure`) are retained until explicitly closed and may consume too much memory. (To control this warning, see the rcParam `figure.max_open_warning`).\n"
     ]
    },
    {
     "data": {
      "image/png": "[encoded data removed]",
      "text/plain": [
       "<Figure size 360x72 with 1 Axes>"
      ]
     },
     "metadata": {
      "needs_background": "light"
     },
     "output_type": "display_data"
    },
    {
     "data": {
      "image/png": "[encoded data removed]",
      "text/plain": [
       "<Figure size 360x72 with 1 Axes>"
      ]
     },
     "metadata": {
      "needs_background": "light"
     },
     "output_type": "display_data"
    },
    {
     "data": {
      "image/png": "[encoded data removed]",
      "text/plain": [
       "<Figure size 360x72 with 1 Axes>"
      ]
     },
     "metadata": {
      "needs_background": "light"
     },
     "output_type": "display_data"
    },
    {
     "data": {
      "image/png": "[encoded data removed]",
      "text/plain": [
       "<Figure size 360x72 with 1 Axes>"
      ]
     },
     "metadata": {
      "needs_background": "light"
     },
     "output_type": "display_data"
    },
    {
     "data": {
      "image/png": "[encoded data removed]",
      "text/plain": [
       "<Figure size 360x72 with 1 Axes>"
      ]
     },
     "metadata": {
      "needs_background": "light"
     },
     "output_type": "display_data"
    },
    {
     "data": {
      "image/png": "[encoded data removed]",
      "text/plain": [
       "<Figure size 360x72 with 1 Axes>"
      ]
     },
     "metadata": {
      "needs_background": "light"
     },
     "output_type": "display_data"
    },
    {
     "data": {
      "image/png": "[encoded data removed]",
      "text/plain": [
       "<Figure size 360x72 with 1 Axes>"
      ]
     },
     "metadata": {
      "needs_background": "light"
     },
     "output_type": "display_data"
    },
    {
     "data": {
      "image/png": "[encoded data removed]",
      "text/plain": [
       "<Figure size 360x72 with 1 Axes>"
      ]
     },
     "metadata": {
      "needs_background": "light"
     },
     "output_type": "display_data"
    },
    {
     "data": {
      "image/png": "[encoded data removed]",
      "text/plain": [
       "<Figure size 360x72 with 1 Axes>"
      ]
     },
     "metadata": {
      "needs_background": "light"
     },
     "output_type": "display_data"
    },
    {
     "data": {
      "image/png": "[encoded data removed]",
      "text/plain": [
       "<Figure size 360x72 with 1 Axes>"
      ]
     },
     "metadata": {
      "needs_background": "light"
     },
     "output_type": "display_data"
    },
    {
     "data": {
      "image/png": "[encoded data removed]",
      "text/plain": [
       "<Figure size 360x72 with 1 Axes>"
      ]
     },
     "metadata": {
      "needs_background": "light"
     },
     "output_type": "display_data"
    },
    {
     "data": {
      "image/png": "[encoded data removed]",
      "text/plain": [
       "<Figure size 360x72 with 1 Axes>"
      ]
     },
     "metadata": {
      "needs_background": "light"
     },
     "output_type": "display_data"
    },
    {
     "data": {
      "image/png": "[encoded data removed]",
      "text/plain": [
       "<Figure size 360x72 with 1 Axes>"
      ]
     },
     "metadata": {
      "needs_background": "light"
     },
     "output_type": "display_data"
    },
    {
     "data": {
      "image/png": "[encoded data removed]",
      "text/plain": [
       "<Figure size 360x72 with 1 Axes>"
      ]
     },
     "metadata": {
      "needs_background": "light"
     },
     "output_type": "display_data"
    },
    {
     "data": {
      "image/png": "[encoded data removed]",
      "text/plain": [
       "<Figure size 360x72 with 1 Axes>"
      ]
     },
     "metadata": {
      "needs_background": "light"
     },
     "output_type": "display_data"
    },
    {
     "data": {
      "image/png": "[encoded data removed]",
      "text/plain": [
       "<Figure size 360x72 with 1 Axes>"
      ]
     },
     "metadata": {
      "needs_background": "light"
     },
     "output_type": "display_data"
    },
    {
     "data": {
      "image/png": "[encoded data removed]",
      "text/plain": [
       "<Figure size 360x72 with 1 Axes>"
      ]
     },
     "metadata": {
      "needs_background": "light"
     },
     "output_type": "display_data"
    },
    {
     "data": {
      "image/png": "[encoded data removed]",
      "text/plain": [
       "<Figure size 360x72 with 1 Axes>"
      ]
     },
     "metadata": {
      "needs_background": "light"
     },
     "output_type": "display_data"
    },
    {
     "data": {
      "image/png": "[encoded data removed]",
      "text/plain": [
       "<Figure size 360x72 with 1 Axes>"
      ]
     },
     "metadata": {
      "needs_background": "light"
     },
     "output_type": "display_data"
    },
    {
     "data": {
      "image/png": "[encoded data removed]",
      "text/plain": [
       "<Figure size 360x72 with 1 Axes>"
      ]
     },
     "metadata": {
      "needs_background": "light"
     },
     "output_type": "display_data"
    },
    {
     "data": {
      "image/png": "[encoded data removed]",
      "text/plain": [
       "<Figure size 360x72 with 1 Axes>"
      ]
     },
     "metadata": {
      "needs_background": "light"
     },
     "output_type": "display_data"
    },
    {
     "data": {
      "image/png": "[encoded data removed]",
      "text/plain": [
       "<Figure size 360x72 with 1 Axes>"
      ]
     },
     "metadata": {
      "needs_background": "light"
     },
     "output_type": "display_data"
    },
    {
     "data": {
      "image/png": "[encoded data removed]",
      "text/plain": [
       "<Figure size 360x72 with 1 Axes>"
      ]
     },
     "metadata": {
      "needs_background": "light"
     },
     "output_type": "display_data"
    },
    {
     "data": {
      "image/png": "[encoded data removed]",
      "text/plain": [
       "<Figure size 360x72 with 1 Axes>"
      ]
     },
     "metadata": {
      "needs_background": "light"
     },
     "output_type": "display_data"
    }
   ],
   "source": [
    "for k in range(len(orders)):\n",
    "    order=orders[k]\n",
    "    v = {i:[] for i in range(0,100,5)}\n",
    "    for gene in neat:\n",
    "        if tax_order[gene] == order:\n",
    "            if gene in TE:\n",
    "                for element in TE[gene]:\n",
    "                    proportion = TE[gene][element][1]/length[gene]*100\n",
    "                    for frag in v:\n",
    "                        if proportion > frag and proportion <= frag + 5:\n",
    "                            v[frag].append(1)\n",
    "\n",
    "    val = []\n",
    "    for i in range(0,100,5):\n",
    "        if v[i]:\n",
    "            val.append(sum(v[i]))\n",
    "        else:\n",
    "            val.append(0)\n",
    "    pos = [i for i in range(len(val))]\n",
    "    plt.figure(figsize=(5,1))\n",
    "    plt.bar(pos,val,color='silver')\n",
    "    plt.title(order,fontsize=8)\n",
    "    plt.yticks(fontsize=5)\n",
    "    plt.xticks([i-0.4 for i in range(0,20,2)],range(0,100,10),fontsize=5)\n",
    "\n",
    "    plt.box(False)\n",
    "    plt.tight_layout()\n",
    "    plt.savefig('./FiguresPublication/TEBinned/' + order+ '.pdf',dpi=300)      "
   ]
  },
  {
   "cell_type": "code",
   "execution_count": 73,
   "id": "811b7580",
   "metadata": {
    "scrolled": true
   },
   "outputs": [
    {
     "name": "stdout",
     "output_type": "stream",
     "text": [
      "Number of orthologs with TE in NEAT1Short isoform is 49 with the mean number of TEs per isoform equal to 1.0 \n",
      "\n",
      "Distribution of mammalian orders comprising cases of NEAT1Short isoforms with TEs:\n",
      " {'Sirenia': 2, 'Primates': 11, 'Carnivora': 15, 'Rodentia': 18, 'Afrosoricida': 2, 'Dermoptera': 1}\n",
      "\n",
      "Distribution of mammalian families comprising cases of NEAT1Short isoforms with TEs:\n",
      " {'Trichechidae': 1, 'Lemuridae': 6, 'Canidae': 15, 'Heteromyidae': 4, 'Capromyidae': 1, 'Cheirogaleidae': 2, 'Spalacidae': 1, 'Muridae': 4, 'Sciuridae': 3, 'Erethizontidae': 2, 'Cricetidae': 2, 'Dugongidae': 1, 'Tarsiidae': 1, 'Octodontidae': 1, 'Chrysochloridae': 1, 'Tenrecidae': 1, 'Cynocephalidae': 1, 'Indriidae': 1, 'Cercopithecidae': 1}\n"
     ]
    }
   ],
   "source": [
    "#TEs in NEAT1Short frequencies\n",
    "pred = {gene:neat[gene]['PAS'] for gene in neat if 'PAS' in neat[gene]}\n",
    "        \n",
    "alltypes = ['LINE','SINE','DNA','Other']\n",
    "TEstat = {}\n",
    "for gene in neat:\n",
    "    if gene in TE and gene in pred:\n",
    "        for element in TE[gene]:\n",
    "            if TE[gene][element][2] < pred[gene]:\n",
    "                if gene not in TEstat:\n",
    "                    TEstat[gene] = 0\n",
    "                TEstat[gene] += 1\n",
    "print(f'Number of orthologs with TE in NEAT1Short isoform is {len(TEstat)}' +\n",
    "      f' with the mean number of TEs per isoform equal to {np.mean([TEstat[i] for i in TEstat])} \\n')\n",
    "\n",
    "c = {}\n",
    "for item in TEstat:\n",
    "    if tax_order[item] not in c:\n",
    "        c[tax_order[item]] = 0\n",
    "    c[tax_order[item]] += 1\n",
    "print('Distribution of mammalian orders comprising cases of NEAT1Short isoforms with TEs:\\n', c)\n",
    "\n",
    "c = {}\n",
    "for item in TEstat:\n",
    "    if tax_fam[item] not in c:\n",
    "        c[tax_fam[item]] = 0\n",
    "    c[tax_fam[item]] += 1\n",
    "print('\\nDistribution of mammalian families comprising cases of NEAT1Short isoforms with TEs:\\n', c)"
   ]
  },
  {
   "cell_type": "markdown",
   "id": "40b34169",
   "metadata": {},
   "source": [
    "### Plot types of TEs in mammalian orders"
   ]
  },
  {
   "cell_type": "code",
   "execution_count": 75,
   "id": "9bde0ab1",
   "metadata": {},
   "outputs": [
    {
     "name": "stdout",
     "output_type": "stream",
     "text": [
      "{'DR0449173_LINE/L1._1325': [1325, 8092, 9201], 'DR0300694_LINE/L1._814': [814, 15840, 16548], 'DR0492213_SINE/Alu._340': [340, 19814, 20089], 'DR0134144_SINE/Alu._336': [336, 17804, 18067], 'DF0000052_SINE/Alu._312': [312, 16614, 16887], 'DR0108943_SINE/Alu._179': [179, 17532, 17678], 'DR0136238_SINE/Alu._143': [143, 17182, 17307], 'DR0392250_SINE/Alu._140': [140, 18529, 18667], 'DR0484076_LINE/L1._134': [134, 15594, 15704], 'DR0370985_LINE/L1._133': [133, 9897, 10029]}\n",
      "{'LINE': 4, 'SINE': 6}\n"
     ]
    }
   ],
   "source": [
    "# Prepare a dictionary with types of TE elements per ortholog\n",
    "alltypes = ['LINE','SINE','DNA','Other']\n",
    "TEstat = {}\n",
    "for gene in neat:\n",
    "    if gene in TE:\n",
    "        TEstat[gene] = {}\n",
    "        for element in TE[gene]:\n",
    "            if 'LINE' in element:\n",
    "                eltype = 'LINE'\n",
    "            elif 'SINE' in element:\n",
    "                eltype = 'SINE'\n",
    "            elif 'DNA' in element:\n",
    "                eltype = 'DNA'\n",
    "            else:\n",
    "                eltype = 'Other'\n",
    "\n",
    "            if eltype not in TEstat[gene]:\n",
    "                TEstat[gene][eltype] = 0\n",
    "            TEstat[gene][eltype] += 1\n",
    "\n",
    "print(TE['Human_NEAT1'])\n",
    "print(TEstat['Human_NEAT1'])"
   ]
  },
  {
   "cell_type": "code",
   "execution_count": 96,
   "id": "c21ed0b8",
   "metadata": {},
   "outputs": [
    {
     "data": {
      "image/png": "[encoded data removed]",
      "text/plain": [
       "<Figure size 288x432 with 1 Axes>"
      ]
     },
     "metadata": {
      "needs_background": "light"
     },
     "output_type": "display_data"
    }
   ],
   "source": [
    "plt.figure(figsize=(4, 6))\n",
    "val = []\n",
    "err = []\n",
    "for order in orders:\n",
    "    av = []\n",
    "    for gene in TEstat:\n",
    "        if tax_order[gene] == order:\n",
    "            av.append(sum([TEstat[gene][item] for item in TEstat[gene]]))\n",
    "    val.append(np.mean(av))\n",
    "    err.append(np.std(av))\n",
    "pos = [i for i in range(len(orders))][::-1]\n",
    "\n",
    "plt.barh(pos,val,xerr=err,color='silver',error_kw={'linewidth':1},label='Other')\n",
    "\n",
    "val = []\n",
    "for order in orders:\n",
    "    av = []\n",
    "    for gene in TEstat:\n",
    "        if tax_order[gene] == order:\n",
    "            av.append(sum([TEstat[gene][item] for item in ['SINE','LINE'] if item in TEstat[gene]]))\n",
    "    val.append(np.mean(av))\n",
    "pos = [i for i in range(len(orders))][::-1]\n",
    "\n",
    "plt.barh(pos,val,color='#70823e',label='LINE')\n",
    "\n",
    "val = []\n",
    "for order in orders:\n",
    "    av = []\n",
    "    for gene in TEstat:\n",
    "        if tax_order[gene] == order and 'SINE' in TEstat[gene]:\n",
    "            av.append(TEstat[gene]['SINE'])\n",
    "    val.append(np.mean(av))\n",
    "pos = [i for i in range(len(orders))][::-1]\n",
    "\n",
    "plt.barh(pos,val,color='#e0b44a',label='SINE')\n",
    "\n",
    "plt.xlabel('Average number of TEs per ortholog',fontsize=12)\n",
    "plt.xticks(fontsize=12)\n",
    "plt.yticks(pos,orders,rotation=0,fontsize=13)\n",
    "plt.box(False)\n",
    "plt.legend(loc='upper right',frameon=False,fontsize=10)\n",
    "plt.tight_layout()\n",
    "plt.savefig('./FiguresPublication/TEsTypesPerOrder.pdf',dpi=300)"
   ]
  },
  {
   "cell_type": "markdown",
   "id": "5ae8dda6",
   "metadata": {},
   "source": [
    "### Position of alternative PASs in NEAT1 orthologs"
   ]
  },
  {
   "cell_type": "code",
   "execution_count": 97,
   "id": "6c8e514e",
   "metadata": {},
   "outputs": [],
   "source": [
    "seq = {}\n",
    "seq_file = 'NEAT1_gene_all.fasta'\n",
    "with open(seq_file) as file1:\n",
    "    fl = 0\n",
    "    for line in file1:\n",
    "        if line.startswith('>') and fl == 0:\n",
    "            l = []\n",
    "            name = line.rstrip().lstrip('>')\n",
    "            fl = 1\n",
    "        elif line.startswith('>') and fl == 1:\n",
    "            seq[name] = ''.join(l)\n",
    "            l = []\n",
    "            name = line.rstrip().lstrip('>')\n",
    "        elif not line.startswith('>'):\n",
    "            l.append(line.strip())\n",
    "    seq[name] = ''.join(l)"
   ]
  },
  {
   "cell_type": "code",
   "execution_count": 98,
   "id": "bd2cde9d",
   "metadata": {},
   "outputs": [],
   "source": [
    "def index_finder(gene):\n",
    "    kmer='AATAAA'\n",
    "    indexes = []\n",
    "    size = len(kmer)\n",
    "    num_kmers = len(gene) - size + 1\n",
    "    for i in range(num_kmers):\n",
    "        loc_kmer = gene[i:i+size]\n",
    "        if loc_kmer == kmer:\n",
    "            indexes.append(i)\n",
    "    return(indexes)\n",
    "poly = {i:index_finder(seq[i]) for i in seq}"
   ]
  },
  {
   "cell_type": "code",
   "execution_count": 137,
   "id": "00a6e624",
   "metadata": {},
   "outputs": [
    {
     "data": {
      "image/png": "[encoded data removed]",
      "text/plain": [
       "<Figure size 432x288 with 1 Axes>"
      ]
     },
     "metadata": {
      "needs_background": "light"
     },
     "output_type": "display_data"
    }
   ],
   "source": [
    "color = {'Monotremata': '#9ecaf1', 'Proboscidea': '#5d8445', 'Microbiotheria': '#9faa4a', 'Dasyuromorphia': '#e7b629',\n",
    " 'Pilosa': '#f38603', 'Cingulata': '#e92b09', 'Tubulidentata': '#823d02', 'Diprotodontia': '#2dbcb6', \n",
    " 'NA': '#c18d44', 'Artiodactyla': '#619ed6', 'Dermoptera': '#475d0a', 'Sirenia': '#c93a00', \n",
    " 'Didelphimorphia': '#75a279', 'Lagomorpha': '#b9c53b', 'Rodentia': '#f7d027', 'Macroscelidea': '#a790aa',\n",
    " 'Scandentia': '#6782c5', 'Eulipotyphla': '#007b9c', 'Chiroptera': '#b77ea3',\n",
    " 'Pholidota': '#26aefa', 'Primates': '#6ba547', 'Perissodactyla': '#6a8a7f', 'Carnivora': '#e48f1b',\n",
    "            'Hyracoidea':'#51A6A3', 'Afrosoricida':'#7c98ec'}\n",
    "\n",
    "TaxDist = {i:[] for i in CountNSOrd}\n",
    "dist = []\n",
    "\n",
    "for gene in neat:\n",
    "    if 'PAS' in neat[gene]:\n",
    "        sites = poly[gene]\n",
    "\n",
    "        index = sites.index(neat[gene]['PAS'])\n",
    "        if index != 0:\n",
    "            dist.append(int(sites[index - 1]) - int(neat[gene]['PAS']))\n",
    "            TaxDist[tax_order[gene]].append(int(sites[index - 1]) - int(neat[gene]['PAS']))\n",
    "        if len(sites) > (index + 1):\n",
    "            a = int(sites[index + 1]) - int(neat[gene]['PAS'])\n",
    "            if a < 4000:\n",
    "                dist.append(a)\n",
    "                TaxDist[tax_order[gene]].append(a)\n",
    "\n",
    "\n",
    "positions = [i for i in range(min(dist),max(dist)+1)]\n",
    "countPos = {i:0 for i in positions}\n",
    "for item in dist:\n",
    "    countPos[item] += 1\n",
    "\n",
    "bins = [i/10 for i in range(-34,40,2)]\n",
    "pos = [i for i in range(len(bins))]\n",
    "\n",
    "vals = []\n",
    "for i in range(-3400,4000,200):\n",
    "    a = [countPos[i] for i in range(i,i+200) if i in countPos]\n",
    "    vals.append(sum(a))\n",
    "\n",
    "plt.bar(pos,vals,color='silver')\n",
    "\n",
    "bottom = [0 for i in pos]\n",
    "for taxon in sorted(CountNSOrd.keys(), key=lambda x: CountNSOrd[x], reverse=True):\n",
    "    vals = []\n",
    "    for i in range(-3400,4000,200):\n",
    "        a = [j for j in TaxDist[taxon] if j in range(i,i+200)]\n",
    "        vals.append(len(a))\n",
    "    if sum(vals) > 0:\n",
    "        plt.bar(pos,vals,color=color[taxon],bottom=bottom,label=taxon)\n",
    "        for i in pos:\n",
    "            bottom[i] += vals[i]\n",
    "plt.legend(bbox_to_anchor=(1, 1),frameon=False,fontsize=8.5)\n",
    "\n",
    "plt.vlines(16.5,ymin=0,ymax=80,linestyle='dashed',color='black',linewidth=0.8)\n",
    "plt.xticks([i-0.5 for i in pos],bins,rotation=90,fontsize=7)\n",
    "plt.xlabel('Distance between primary and putative PASs\\n (binned per 200bp), kb',fontsize=12)\n",
    "plt.ylabel('Number of orthologs',fontsize=12)\n",
    "plt.box(False)\n",
    "\n",
    "plt.tight_layout()\n",
    "plt.savefig('./FiguresPublication/DistanceAltPAS.pdf',bbox_inches='tight',dpi=300)"
   ]
  },
  {
   "cell_type": "markdown",
   "id": "46ab7deb",
   "metadata": {},
   "source": [
    "### Distances between conserved motifs in triple helix"
   ]
  },
  {
   "cell_type": "code",
   "execution_count": 139,
   "id": "55a5bf93",
   "metadata": {},
   "outputs": [],
   "source": [
    "#Read file with multiple sequence alignment\n",
    "msa = {}\n",
    "seq_file = 'msa_NEAT1-MALAT1_triplex-trna.fasta'\n",
    "\n",
    "with open(seq_file) as file1:\n",
    "    fl = 0\n",
    "    for line in file1:\n",
    "        if line.startswith('>') and fl == 0:\n",
    "            l = []\n",
    "            name = line.rstrip().lstrip('>')\n",
    "            fl = 1\n",
    "        elif line.startswith('>') and fl == 1:\n",
    "            msa[name] = ''.join(l)\n",
    "            l = []\n",
    "            name = line.rstrip().lstrip('>')\n",
    "        elif not line.startswith('>'):\n",
    "            l.append(line.strip())\n",
    "    msa[name] = ''.join(l)"
   ]
  },
  {
   "cell_type": "code",
   "execution_count": 12,
   "id": "a1546413",
   "metadata": {},
   "outputs": [
    {
     "name": "stdout",
     "output_type": "stream",
     "text": [
      "cctgag--gccgcca-----t-gcagcc-----------------tcagg\n",
      "cacc--cttaaa--------tctgtgag-----agaagagcgccc--------\n"
     ]
    }
   ],
   "source": [
    "#Manually defined coordinates of regions between conserved motifs\n",
    "#MSA was visualised with AlignmentViewer\n",
    "print(msa['NEAT1_Marsupials_NEAT1'][10:60])\n",
    "print(msa['NEAT1_Marsupials_NEAT1'][70:123])\n"
   ]
  },
  {
   "cell_type": "code",
   "execution_count": 142,
   "id": "dc63299b",
   "metadata": {},
   "outputs": [
    {
     "name": "stdout",
     "output_type": "stream",
     "text": [
      "Triplex structure comprises three very conserved motifs and two varied sequences in between\n",
      "\n",
      "Length variation of these two fragments are:\n",
      "\n",
      "Average length of the first fragment of NEAT1 is 28.73611111111111 +/- 0.9818822806483202\n",
      "Average length of the second fragment of NEAT1 is 29.817460317460316 +/- 1.0608531580895024\n",
      "Average length of the first fragment of MALAT1 is 31.35632183908046 +/- 1.8728367535946662\n",
      "Average length of the second fragment of MALAT1 is 23.588505747126437 +/- 1.7999633002233348\n"
     ]
    }
   ],
   "source": [
    "n1 = []\n",
    "n2 = []\n",
    "m1 = []\n",
    "m2 = []\n",
    "for item in msa:\n",
    "    if 'NEAT1' in item:\n",
    "        n1.append(len([i for i in msa[item][10:60] if i != '-']))\n",
    "        n2.append(len([i for i in msa[item][70:123] if i != '-']))\n",
    "    if 'MALAT1' in item:\n",
    "        m1.append(len([i for i in msa[item][10:60] if i != '-']))\n",
    "        m2.append(len([i for i in msa[item][70:123] if i != '-']))\n",
    "print('Triplex structure comprises three very conserved motifs and two varied sequences in between\\n')\n",
    "print('Length variation of these two fragments are:\\n')\n",
    "print(f'Average length of the first fragment of NEAT1 is {np.mean(n1)} +/- {np.std(n1)}')\n",
    "print(f'Average length of the second fragment of NEAT1 is {np.mean(n2)} +/- {np.std(n2)}')\n",
    "print(f'Average length of the first fragment of MALAT1 is {np.mean(m1)} +/- {np.std(m1)}')\n",
    "print(f'Average length of the second fragment of MALAT1 is {np.mean(m2)} +/- {np.std(m2)}')\n"
   ]
  },
  {
   "cell_type": "markdown",
   "id": "ce8020e8",
   "metadata": {},
   "source": [
    "### SSR statistics"
   ]
  },
  {
   "cell_type": "code",
   "execution_count": 6,
   "id": "2c1f039a",
   "metadata": {},
   "outputs": [],
   "source": [
    "SSR = {}\n",
    "count = 0\n",
    "with open('./SSR_search/NEAT1_SSR.misa') as file1:\n",
    "    for line in file1:\n",
    "        if not line.startswith('ID'):\n",
    "            dat = line.strip().split('\\t')\n",
    "            if dat[2] != 'c*':\n",
    "                if dat[0] not in SSR:\n",
    "                    SSR[dat[0]] = {}\n",
    "                rep1 = dat[3].split('(')\n",
    "                for item in rep1:\n",
    "                    if item:\n",
    "                        rep2 = item.split(')')[0]\n",
    "                        if rep2 not in SSR[dat[0]]:\n",
    "                            SSR[dat[0]][rep2] = 0\n",
    "                        SSR[dat[0]][rep2] += 1\n",
    "\n",
    "count = {}\n",
    "for item in SSR:\n",
    "    for rep in SSR[item]:\n",
    "        if rep not in count:\n",
    "            count[rep] = 0\n",
    "        count[rep] += 1\n",
    "\n",
    "repeats = {i:count[i] for i in count if count[i]>5}\n"
   ]
  },
  {
   "cell_type": "code",
   "execution_count": 177,
   "id": "73ef29af",
   "metadata": {},
   "outputs": [
    {
     "data": {
      "image/png": "[encoded data removed]",
      "text/plain": [
       "<Figure size 216x144 with 1 Axes>"
      ]
     },
     "metadata": {
      "needs_background": "light"
     },
     "output_type": "display_data"
    }
   ],
   "source": [
    "PerGene = [len(SSR[item]) for item in SSR]\n",
    "\n",
    "val = []\n",
    "for i in range(1,8):\n",
    "    val.append(len([k for k in PerGene if k >= i and k < (i + 1)]))\n",
    "pos = [i for i in range(1,len(val) + 1)]\n",
    "\n",
    "plt.figure(figsize=(3, 2))\n",
    "plt.bar(pos,val,color='silver')\n",
    "plt.xlabel('Number of SSR per ortholog',fontsize=12)\n",
    "plt.ylabel('Number of orthologs', fontsize=12)\n",
    "plt.box(False)\n",
    "plt.yticks(fontsize=12)\n",
    "plt.xticks(pos,pos,fontsize=12)\n",
    "plt.tight_layout()\n",
    "plt.savefig('./FiguresPublication/NEAT1_SSR_Frequency.pdf',dpi=300)"
   ]
  },
  {
   "cell_type": "code",
   "execution_count": 7,
   "id": "4b416947",
   "metadata": {},
   "outputs": [
    {
     "name": "stdout",
     "output_type": "stream",
     "text": [
      "['T', 'A', 'GT', 'TG', 'G', 'C', 'GA', 'AT', 'TA', 'TC', 'AC', 'CA', 'AG', 'TTTG', 'CT', 'TTG', 'CCT', 'TTA', 'TTTA', 'GTGA', 'TCC', 'AAT', 'CTC', 'TGAA', 'GCCT', 'AGG', 'GGGA']\n"
     ]
    },
    {
     "data": {
      "image/png": "[encoded data removed]",
      "text/plain": [
       "<Figure size 216x360 with 1 Axes>"
      ]
     },
     "metadata": {
      "needs_background": "light"
     },
     "output_type": "display_data"
    }
   ],
   "source": [
    "plt.figure(figsize=(3, 5))\n",
    "order = sorted(repeats.keys(), key=lambda kv: repeats[kv],reverse=True)\n",
    "print(order)\n",
    "pos = [i for i in range(len(order))][::-1]\n",
    "val = [repeats[i] for i in order]\n",
    "\n",
    "plt.barh(pos,val,color='silver')\n",
    "\n",
    "plt.xlabel('Number of orthologs',fontsize=12)\n",
    "\n",
    "plt.box(False)\n",
    "plt.yticks(pos, [i.replace('T','U') for i in order], fontsize=10)\n",
    "plt.xticks([i for i in range(0,450,50)],[i for i in range(0,450,50)],fontsize=10)\n",
    "plt.tight_layout()\n",
    "plt.savefig('./FiguresPublication/NEAT1_SSRs.pdf',dpi=300)"
   ]
  },
  {
   "cell_type": "code",
   "execution_count": 8,
   "id": "eebf356b",
   "metadata": {},
   "outputs": [],
   "source": [
    "SSR = {}\n",
    "count = 0\n",
    "with open('./SSR_search/MALAT1_SSR.misa') as file1:\n",
    "    for line in file1:\n",
    "        if not line.startswith('ID'):\n",
    "            dat = line.strip().split('\\t')\n",
    "            if dat[2] != 'c*':\n",
    "                if dat[0] not in SSR:\n",
    "                    SSR[dat[0]] = {}\n",
    "                rep1 = dat[3].split('(')\n",
    "                for item in rep1:\n",
    "                    if item:\n",
    "                        rep2 = item.split(')')[0]\n",
    "                        if rep2 not in SSR[dat[0]]:\n",
    "                            SSR[dat[0]][rep2] = 0\n",
    "                        SSR[dat[0]][rep2] += 1\n",
    "\n",
    "count = {}\n",
    "for item in SSR:\n",
    "    for rep in SSR[item]:\n",
    "        if rep not in count:\n",
    "            count[rep] = 0\n",
    "        count[rep] += 1\n",
    "\n",
    "repeats = {i:count[i] for i in count if count[i]>5}"
   ]
  },
  {
   "cell_type": "code",
   "execution_count": 9,
   "id": "d83edb77",
   "metadata": {},
   "outputs": [
    {
     "data": {
      "image/png": "[encoded data removed]",
      "text/plain": [
       "<Figure size 216x144 with 1 Axes>"
      ]
     },
     "metadata": {
      "needs_background": "light"
     },
     "output_type": "display_data"
    }
   ],
   "source": [
    "plt.figure(figsize=(3, 2))\n",
    "order = sorted(repeats.keys(), key=lambda kv: repeats[kv],reverse=True)\n",
    "\n",
    "pos = [i for i in range(len(order))][::-1]\n",
    "val = [repeats[i] for i in order]\n",
    "\n",
    "plt.barh(pos,val,color='silver')\n",
    "\n",
    "plt.xlabel('Number of orthologs',fontsize=12)\n",
    "\n",
    "plt.box(False)\n",
    "plt.yticks(pos, [i.replace('T','U') for i in order], fontsize=10)\n",
    "plt.xticks([i for i in range(0,450,50)],[i for i in range(0,450,50)],fontsize=9)\n",
    "plt.tight_layout()\n",
    "plt.savefig('./FiguresPublication/MALAT1_SSRs.pdf',dpi=300)\n"
   ]
  },
  {
   "cell_type": "code",
   "execution_count": 175,
   "id": "98afbe83",
   "metadata": {},
   "outputs": [
    {
     "data": {
      "image/png": "[encoded data removed]",
      "text/plain": [
       "<Figure size 216x144 with 1 Axes>"
      ]
     },
     "metadata": {
      "needs_background": "light"
     },
     "output_type": "display_data"
    }
   ],
   "source": [
    "PerGene = [len(SSR[item]) for item in SSR]\n",
    "\n",
    "val = []\n",
    "for i in range(1,8):\n",
    "    val.append(len([k for k in PerGene if k >= i and k < (i + 1)]))\n",
    "pos = [i for i in range(1,len(val) + 1)]\n",
    "\n",
    "plt.figure(figsize=(3, 2))\n",
    "plt.bar(pos,val,color='silver')\n",
    "plt.xlabel('Number of SSR per ortholog',fontsize=12)\n",
    "plt.ylabel('Number of orthologs', fontsize=12)\n",
    "plt.box(False)\n",
    "plt.yticks(fontsize=12)\n",
    "plt.xticks(pos,pos,fontsize=12)\n",
    "plt.tight_layout()\n",
    "plt.savefig('./FiguresPublication/MALAT1_SSR_Frequency.pdf',dpi=300)\n",
    "\n"
   ]
  },
  {
   "cell_type": "markdown",
   "id": "f568cde7",
   "metadata": {},
   "source": [
    "### Self-complimentary regions in numbers"
   ]
  },
  {
   "cell_type": "code",
   "execution_count": 1,
   "id": "f27dc547",
   "metadata": {},
   "outputs": [],
   "source": [
    "#Parsing blast output to collect only reverse complimentary regions\n",
    "blastrc = {}\n",
    "c = 1\n",
    "with open('./BLAST_all_vs_all/NEAT1_all_vs_all.txt') as file1:\n",
    "    for line in file1:\n",
    "        dat = line.strip().split('\\t')\n",
    "        if int(dat[7]) < int(dat[6]):\n",
    "            if dat[0] not in blastrc:\n",
    "                blastrc[dat[0]] = {}\n",
    "            if dat[1] not in blastrc[dat[0]]:\n",
    "                blastrc[dat[0]][dat[1]] = {}\n",
    "            a = [int(dat[4]),int(dat[6])]\n",
    "            b = [int(dat[5]),int(dat[7])]\n",
    "            blastrc[dat[0]][dat[1]][c] = [a,b,int(round(float(dat[3]),0))]\n",
    "            c += 1"
   ]
  },
  {
   "cell_type": "code",
   "execution_count": 36,
   "id": "510b2304",
   "metadata": {},
   "outputs": [
    {
     "name": "stdout",
     "output_type": "stream",
     "text": [
      "Number of orthologs with inner complimentarity is 358, without them 148\n",
      "Top 10 orthologs with highest number of self-complimentary regions\n",
      " ['GCA_907164525.1_mLopImh1.curated_primary_1811', 'GCA_023807365.1_ASM2380736v1', 'GCA_023781915.1_ASM2378191v1', 'GCF_009764315.1_Tfra_2.0', 'GCA_009823505.1_RhiPru_1.0', 'GCA_028451465.1_mEreDor1.pri', 'GCA_950005125.1_mChiNiv1.1', 'GCF_008728515.1_Panubis1.0', 'GCF_000260255.1_OctDeg1.0', 'GCA_023783235.1_ASM2378323v1']\n",
      "\n",
      "The Lophiomys imhausi has 132 regions of inner complementarity\n"
     ]
    }
   ],
   "source": [
    "selfcomp = {}\n",
    "count = 0\n",
    "\n",
    "for item in neat:\n",
    "    if item in blastrc:\n",
    "        if item in blastrc[item]:\n",
    "            selfcomp[item] = len(blastrc[item][item])\n",
    "        else:\n",
    "            count += 1\n",
    "\n",
    "print(f'Number of orthologs with inner complimentarity is {len(selfcomp)}, without them {count}')\n",
    "sorted_selfcomp = sorted(selfcomp.keys(), key=lambda x: selfcomp[x], reverse=True)\n",
    "print('Top 10 orthologs with highest number of self-complimentary regions\\n', sorted_selfcomp[:10])\n",
    "print('\\nThe ' + latin['GCA_907164525.1_mLopImh1.curated_primary_1811'] + ' has ' +\n",
    "      str(selfcomp['GCA_907164525.1_mLopImh1.curated_primary_1811']) +\n",
    "      ' regions of inner complementarity')"
   ]
  },
  {
   "cell_type": "code",
   "execution_count": 39,
   "id": "28b965ec",
   "metadata": {},
   "outputs": [
    {
     "name": "stdout",
     "output_type": "stream",
     "text": [
      "14.681564245810057 20.84712232623435\n"
     ]
    },
    {
     "data": {
      "image/png": "[encoded data removed]",
      "text/plain": [
       "<Figure size 432x288 with 1 Axes>"
      ]
     },
     "metadata": {
      "needs_background": "light"
     },
     "output_type": "display_data"
    }
   ],
   "source": [
    "val = [selfcomp[i] for i in sorted_selfcomp]\n",
    "\n",
    "plt.figure()\n",
    "plt.plot(val,'o')\n",
    "\n",
    "print(np.mean(val), np.std(val))\n"
   ]
  },
  {
   "cell_type": "code",
   "execution_count": 26,
   "id": "97f90e18",
   "metadata": {},
   "outputs": [
    {
     "data": {
      "image/png": "[encoded data removed]",
      "text/plain": [
       "<Figure size 216x360 with 1 Axes>"
      ]
     },
     "metadata": {
      "needs_background": "light"
     },
     "output_type": "display_data"
    }
   ],
   "source": [
    "val = []\n",
    "err = []\n",
    "used = {}\n",
    "for item in orders:\n",
    "    av = []\n",
    "    for gene in neat:\n",
    "        if tax_order[gene] == item:\n",
    "            if gene in d:\n",
    "                av.append(d[gene][0])\n",
    "            else:\n",
    "                av.append(0)\n",
    "\n",
    "    used[item] = len(av)\n",
    "    val.append(np.mean(av))\n",
    "    err.append(np.std(av))\n",
    "\n",
    "        \n",
    "            \n",
    "plt.figure(figsize=(3, 5))\n",
    "\n",
    "pos = [i for i in range(len(orders))][::-1]\n",
    "plt.barh(pos,val,xerr=err, color='silver')\n",
    "for i in pos:\n",
    "    name = orders[::-1][i]\n",
    "    if name in used:\n",
    "        plt.text(-12,i-0.3,used[name],fontsize=12)\n",
    "plt.xlabel('Average number of \\nself-complimentary regions',fontsize=13)\n",
    "\n",
    "plt.xticks(range(0,50,10),range(0,50,10))\n",
    "plt.yticks([])\n",
    "plt.box(False)\n",
    "plt.tight_layout()\n",
    "plt.savefig('./FiguresPublication/NEAT1SelfComplimentPerOrder.pdf',dpi=300)"
   ]
  },
  {
   "cell_type": "code",
   "execution_count": 40,
   "id": "5ba17a06",
   "metadata": {},
   "outputs": [],
   "source": [
    "# Same for MALAT1\n",
    "blastrc = {}\n",
    "c = 1\n",
    "with open('./BLAST_all_vs_all/MALAT1_all_vs_all.txt') as file1:\n",
    "    for line in file1:\n",
    "        dat = line.strip().split('\\t')\n",
    "        if int(dat[7]) < int(dat[6]):\n",
    "            if dat[0] not in blastrc:\n",
    "                blastrc[dat[0]] = {}\n",
    "            if dat[1] not in blastrc[dat[0]]:\n",
    "                blastrc[dat[0]][dat[1]] = {}\n",
    "            a = [int(dat[4]),int(dat[6])]\n",
    "            b = [int(dat[5]),int(dat[7])]\n",
    "            blastrc[dat[0]][dat[1]][c] = [a,b,int(round(float(dat[3]),0))]\n",
    "            c += 1"
   ]
  },
  {
   "cell_type": "code",
   "execution_count": 42,
   "id": "c3d754bb",
   "metadata": {},
   "outputs": [
    {
     "name": "stdout",
     "output_type": "stream",
     "text": [
      "Number of orthologs with inner complimentarity is 116, without them 346\n",
      "Top 10 orthologs with highest number of self-complimentary regions\n",
      " ['GCA_004027875.1_AplRuf_v1_BIUU', 'GCA_025594165.1_ASM2559416v1', 'GCA_028534135.1_Potos_flavus_HiC', 'GCA_907164525.1_mLopImh1.curated_primary_1811', 'GCF_001984765.1_C.can_genome_v1.0', 'GCF_002099425.1_phaCin_unsw_v4.1', 'GCF_002940915.1_ASM294091v2', 'GCF_016433145.1_AgileGrace', 'GCA_000283155.1_CerSimSim1.0', 'GCA_000321225.1_Oros_1.0']\n",
      "1.0689655172413792 0.25339549063274247\n"
     ]
    },
    {
     "data": {
      "image/png": "[encoded data removed]",
      "text/plain": [
       "<Figure size 432x288 with 1 Axes>"
      ]
     },
     "metadata": {
      "needs_background": "light"
     },
     "output_type": "display_data"
    }
   ],
   "source": [
    "selfcomp = {}\n",
    "count = 0\n",
    "\n",
    "for item in malat:\n",
    "    if item in blastrc:\n",
    "        if item in blastrc[item]:\n",
    "            selfcomp[item] = len(blastrc[item][item])\n",
    "        else:\n",
    "            count += 1\n",
    "\n",
    "print(f'Number of orthologs with inner complimentarity is {len(selfcomp)}, without them {count}')\n",
    "sorted_selfcomp = sorted(selfcomp.keys(), key=lambda x: selfcomp[x], reverse=True)\n",
    "print('Top 10 orthologs with highest number of self-complimentary regions\\n', sorted_selfcomp[:10])\n",
    "val = [selfcomp[i] for i in sorted_selfcomp]\n",
    "\n",
    "plt.figure()\n",
    "plt.plot(val,'o')\n",
    "\n",
    "print(np.mean(val), np.std(val))"
   ]
  },
  {
   "cell_type": "code",
   "execution_count": null,
   "id": "61db5f62",
   "metadata": {},
   "outputs": [],
   "source": []
  },
  {
   "cell_type": "code",
   "execution_count": null,
   "id": "4526da04",
   "metadata": {},
   "outputs": [],
   "source": []
  }
 ],
 "metadata": {
  "kernelspec": {
   "display_name": "Python 3 (ipykernel)",
   "language": "python",
   "name": "python3"
  },
  "language_info": {
   "codemirror_mode": {
    "name": "ipython",
    "version": 3
   },
   "file_extension": ".py",
   "mimetype": "text/x-python",
   "name": "python",
   "nbconvert_exporter": "python",
   "pygments_lexer": "ipython3",
   "version": "3.7.0"
  }
 },
 "nbformat": 4,
 "nbformat_minor": 5
}
